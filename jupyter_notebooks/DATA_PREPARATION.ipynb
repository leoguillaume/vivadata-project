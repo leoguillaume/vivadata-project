{
 "cells": [
  {
   "cell_type": "markdown",
   "metadata": {},
   "source": [
    "# DATA PREPARATION"
   ]
  },
  {
   "cell_type": "code",
   "execution_count": 1,
   "metadata": {},
   "outputs": [],
   "source": [
    "import pandas as pd\n",
    "import numpy as np\n",
    "import matplotlib.pyplot as plt\n",
    "import seaborn as sns\n",
    "import warnings\n",
    "from label_cleaning import label_cleaning\n",
    "from tqdm import tqdm\n",
    "import pickle\n",
    "from sklearn.metrics.pairwise import cosine_similarity"
   ]
  },
  {
   "cell_type": "code",
   "execution_count": 2,
   "metadata": {},
   "outputs": [],
   "source": [
    "from sklearn.preprocessing import LabelEncoder\n",
    "from sklearn.model_selection import train_test_split"
   ]
  },
  {
   "cell_type": "code",
   "execution_count": 3,
   "metadata": {},
   "outputs": [],
   "source": [
    "warnings.filterwarnings('ignore')"
   ]
  },
  {
   "cell_type": "code",
   "execution_count": 4,
   "metadata": {},
   "outputs": [
    {
     "name": "stdout",
     "output_type": "stream",
     "text": [
      "CPU times: user 19.5 s, sys: 29.5 s, total: 49 s\n",
      "Wall time: 1min\n"
     ]
    }
   ],
   "source": [
    "%%time \n",
    "df = pd.read_pickle('../data/doc_vectors.pkl')"
   ]
  },
  {
   "cell_type": "code",
   "execution_count": null,
   "metadata": {},
   "outputs": [],
   "source": [
    "%%time\n",
    "import pyLDAvis\n",
    "import pyLDAvis.gensim\n",
    "from sklearn.feature_extraction.text import TfidfVectorizer, CountVectorizer\n",
    "from gensim.models import TfidfModel\n",
    "from gensim.corpora import Dictionary\n",
    "from gensim.matutils import Sparse2Corpus\n",
    "from gensim.models import LdaModel"
   ]
  },
  {
   "cell_type": "markdown",
   "metadata": {},
   "source": [
    "### Drop duplicated and null texts"
   ]
  },
  {
   "cell_type": "code",
   "execution_count": 5,
   "metadata": {},
   "outputs": [],
   "source": [
    "df.drop_duplicates(subset = 'CONTENU', inplace = True)\n",
    "df = df[df.CONTENU != 'null']"
   ]
  },
  {
   "cell_type": "markdown",
   "metadata": {},
   "source": [
    "### Reduction of label number"
   ]
  },
  {
   "cell_type": "code",
   "execution_count": null,
   "metadata": {},
   "outputs": [],
   "source": [
    "df.main_labels.nunique()"
   ]
  },
  {
   "cell_type": "code",
   "execution_count": null,
   "metadata": {},
   "outputs": [],
   "source": [
    "for i in range(len(df)):\n",
    "    if df.main_labels.iloc[i] in label_cleaning.keys():\n",
    "        df.main_labels.iloc[i] = label_cleaning[df.main_labels.iloc[i]]"
   ]
  },
  {
   "cell_type": "code",
   "execution_count": null,
   "metadata": {},
   "outputs": [],
   "source": [
    "df.main_labels.nunique()"
   ]
  },
  {
   "cell_type": "code",
   "execution_count": null,
   "metadata": {},
   "outputs": [],
   "source": [
    "df.SCT[3]"
   ]
  },
  {
   "cell_type": "markdown",
   "metadata": {},
   "source": [
    "### Add start token"
   ]
  },
  {
   "cell_type": "code",
   "execution_count": null,
   "metadata": {},
   "outputs": [],
   "source": [
    "for i in tqdm(range(len(df))):\n",
    "    df.tokens_rest.iloc[i] = np.insert(df.tokens_rest.iloc[i], 0, ['<START>'])"
   ]
  },
  {
   "cell_type": "markdown",
   "metadata": {},
   "source": [
    "### Conserve non-null labels data"
   ]
  },
  {
   "cell_type": "code",
   "execution_count": null,
   "metadata": {},
   "outputs": [],
   "source": [
    "data = df[df.main_labels.notnull()]"
   ]
  },
  {
   "cell_type": "code",
   "execution_count": null,
   "metadata": {},
   "outputs": [],
   "source": [
    "sns.displot()"
   ]
  },
  {
   "cell_type": "code",
   "execution_count": null,
   "metadata": {},
   "outputs": [],
   "source": [
    "corpus = data.tokens_rest32\n",
    "vectorizer = TfidfVectorizer(lowercase=False, analyzer=lambda x: x)\n",
    "\n",
    "tf_idf = vectorizer.fit_transform(corpus)\n",
    "tf_idf_sklearn = Sparse2Corpus(tf_idf, documents_columns=False)\n",
    "id2word = Dictionary(corpus)\n",
    "bow = [id2word.doc2bow(line) for line in corpus] \n",
    "lda2 = LdaModel(corpus=tf_idf_sklearn, id2word=id2word, num_topics=253, passes=10)\n",
    "pyLDAvis.enable_notebook()\n",
    "vis = pyLDAvis.gensim.prepare(topic_model=lda2, corpus=bow, dictionary=id2word)\n",
    "vis"
   ]
  },
  {
   "cell_type": "markdown",
   "metadata": {},
   "source": [
    "### Encoding labels"
   ]
  },
  {
   "cell_type": "code",
   "execution_count": null,
   "metadata": {},
   "outputs": [],
   "source": [
    "labels = LabelEncoder().fit_transform(data.main_labels)"
   ]
  },
  {
   "cell_type": "markdown",
   "metadata": {},
   "source": [
    "### Encoding texts"
   ]
  },
  {
   "cell_type": "code",
   "execution_count": null,
   "metadata": {},
   "outputs": [],
   "source": [
    "def build_word_vector(tokens):\n",
    "    corpus = list()\n",
    "    for doc in tqdm(tokens):\n",
    "        for word in list(set(doc)):\n",
    "            corpus.append(word)\n",
    "            \n",
    "    corpus = list(set(corpus))\n",
    "    word_index = {value:index for index, value in enumerate(corpus)}\n",
    "    word_index_reverse = {index:value for index, value in enumerate(corpus)}\n",
    "    \n",
    "    token_vectors = [[word_index[token] for token in text] for text in tqdm(tokens)]\n",
    "    \n",
    "    return token_vectors, word_index, word_index_reverse"
   ]
  },
  {
   "cell_type": "code",
   "execution_count": null,
   "metadata": {},
   "outputs": [],
   "source": [
    "token_vectors, word_index, word_index_reverse = build_word_vector(data.tokens_rest)"
   ]
  },
  {
   "cell_type": "code",
   "execution_count": null,
   "metadata": {},
   "outputs": [],
   "source": [
    "data['token_vectors'] = token_vectors"
   ]
  },
  {
   "cell_type": "code",
   "execution_count": null,
   "metadata": {},
   "outputs": [],
   "source": [
    "f = open(\"word_index_reverse.py\",\"w\")\n",
    "f.write('word_index_reverse = ' + str(word_index_reverse))\n",
    "f.close()"
   ]
  },
  {
   "cell_type": "code",
   "execution_count": null,
   "metadata": {},
   "outputs": [],
   "source": [
    "f = open(\"word_index.py\",\"w\")\n",
    "f.write('word_index = ' + str(word_index))\n",
    "f.close()"
   ]
  },
  {
   "cell_type": "markdown",
   "metadata": {},
   "source": [
    "### Train-test split"
   ]
  },
  {
   "cell_type": "code",
   "execution_count": null,
   "metadata": {},
   "outputs": [],
   "source": [
    "X = data[['ID', 'token_vectors']]\n",
    "y = labels"
   ]
  },
  {
   "cell_type": "code",
   "execution_count": null,
   "metadata": {},
   "outputs": [],
   "source": [
    "(X_train, X_test, y_train, y_test) = train_test_split(X, y, test_size = 0.1, random_state = 42, stratify = labels)"
   ]
  },
  {
   "cell_type": "code",
   "execution_count": null,
   "metadata": {},
   "outputs": [],
   "source": [
    "print(f'Training entries: {X_train.shape}, labels: {y_train.shape}, \\nTest entries: {X_test.shape}, labels: {y_test.shape}')"
   ]
  },
  {
   "cell_type": "markdown",
   "metadata": {},
   "source": [
    "### Saving"
   ]
  },
  {
   "cell_type": "code",
   "execution_count": null,
   "metadata": {},
   "outputs": [],
   "source": [
    "filepath = '../train_test_sets/'"
   ]
  },
  {
   "cell_type": "code",
   "execution_count": null,
   "metadata": {},
   "outputs": [],
   "source": [
    "X_train.to_pickle(filepath + 'X_train.pkl')\n",
    "X_test.to_pickle(filepath + 'X_test.pkl')"
   ]
  },
  {
   "cell_type": "code",
   "execution_count": null,
   "metadata": {},
   "outputs": [],
   "source": [
    "pickle.dump(y_train, open(filepath + 'y_train.pkl', \"wb\" ))\n",
    "pickle.dump(y_train, open(filepath + 'y_test.pkl', \"wb\" ))"
   ]
  },
  {
   "cell_type": "markdown",
   "metadata": {},
   "source": [
    "#### Similarity analysis"
   ]
  },
  {
   "cell_type": "code",
   "execution_count": null,
   "metadata": {},
   "outputs": [],
   "source": [
    "plt.figure()\n",
    "sns.distplot(data.main_labels.value_counts(), hist = False)\n",
    "plt.yticks([])\n",
    "plt.title('Distribution of label frequencies', loc = 'left', fontweight = 'bold')\n",
    "plt.xlabel(None)\n",
    "plt.show()"
   ]
  },
  {
   "cell_type": "code",
   "execution_count": null,
   "metadata": {},
   "outputs": [],
   "source": [
    "data = df[df.main_labels.notnull()]\n",
    "labels_value_counts = data.main_labels.value_counts()\n",
    "quantiles = [0, 0.25, 0.5, 0.75, 1]\n",
    "\n",
    "plt.figure(figsize = (12, 10))\n",
    "for i in range(len(quantiles) - 1):\n",
    "    \n",
    "    quantile_down = data.main_labels.value_counts().quantile(quantiles[i])\n",
    "    quantile_up = data.main_labels.value_counts().quantile(quantiles[i + 1])\n",
    "    D = data[data.main_labels.isin(labels_value_counts[labels_value_counts > quantile_down][labels_value_counts <= quantile_up].index)]\n",
    "    \n",
    "    plt.subplot(2, 2, i + 1)\n",
    "    plt.title(f'Number of decisions per labels between {int(quantile_down)} and {int(quantile_up)}', fontweight = 'bold')\n",
    "\n",
    "    \n",
    "    M_mean = list()\n",
    "    M_median = list()\n",
    "    for label in D.main_labels.unique():\n",
    "        M = cosine_similarity(D.doc_vectors[D.main_labels == label].apply(pd.Series))\n",
    "        M_values = M[np.tril_indices_from(M, 1)]\n",
    "        M_mean.append(np.mean(M_values))\n",
    "        \n",
    "    sns.distplot(M_mean, hist = False)\n",
    "        \n",
    "    plt.xlabel(f'Mean: {np.mean(M_mean), 2}')\n",
    "    plt.yticks([])\n",
    "\n",
    "plt.suptitle('Distribution of cosine similarity', fontsize=16, fontweight = 'bold')\n",
    "plt.show()"
   ]
  },
  {
   "cell_type": "code",
   "execution_count": null,
   "metadata": {},
   "outputs": [],
   "source": []
  }
 ],
 "metadata": {
  "kernelspec": {
   "display_name": "Python 3",
   "language": "python",
   "name": "python3"
  },
  "language_info": {
   "codemirror_mode": {
    "name": "ipython",
    "version": 3
   },
   "file_extension": ".py",
   "mimetype": "text/x-python",
   "name": "python",
   "nbconvert_exporter": "python",
   "pygments_lexer": "ipython3",
   "version": "3.7.6"
  }
 },
 "nbformat": 4,
 "nbformat_minor": 4
}
