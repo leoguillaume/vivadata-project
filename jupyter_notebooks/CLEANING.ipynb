{
 "cells": [
  {
   "cell_type": "markdown",
   "metadata": {},
   "source": [
    "## CLEANING\n",
    "\n",
    "### Imports"
   ]
  },
  {
   "cell_type": "code",
   "execution_count": 1,
   "metadata": {},
   "outputs": [],
   "source": [
    "import pandas as pd\n",
    "import numpy as np"
   ]
  },
  {
   "cell_type": "markdown",
   "metadata": {},
   "source": [
    "### Database loading"
   ]
  },
  {
   "cell_type": "code",
   "execution_count": 2,
   "metadata": {},
   "outputs": [
    {
     "name": "stdout",
     "output_type": "stream",
     "text": [
      "2020-05-29 00:17:55,097 INFO sqlalchemy.engine.base.Engine SELECT CAST('test plain returns' AS VARCHAR(60)) AS anon_1\n",
      "2020-05-29 00:17:55,098 INFO sqlalchemy.engine.base.Engine ()\n",
      "2020-05-29 00:17:55,099 INFO sqlalchemy.engine.base.Engine SELECT CAST('test unicode returns' AS VARCHAR(60)) AS anon_1\n",
      "2020-05-29 00:17:55,100 INFO sqlalchemy.engine.base.Engine ()\n"
     ]
    }
   ],
   "source": [
    "import sqlalchemy as db\n",
    "DATABASE_URL = 'sqlite:///' + 'data.db'\n",
    "engine = db.create_engine(DATABASE_URL, echo = True)\n",
    "connection = engine.connect()"
   ]
  },
  {
   "cell_type": "code",
   "execution_count": 3,
   "metadata": {},
   "outputs": [
    {
     "name": "stdout",
     "output_type": "stream",
     "text": [
      "2020-05-29 00:17:55,116 INFO sqlalchemy.engine.base.Engine PRAGMA main.table_info(\"Data\")\n",
      "2020-05-29 00:17:55,120 INFO sqlalchemy.engine.base.Engine ()\n",
      "2020-05-29 00:17:55,137 INFO sqlalchemy.engine.base.Engine SELECT name FROM sqlite_master WHERE type='table' ORDER BY name\n",
      "2020-05-29 00:17:55,143 INFO sqlalchemy.engine.base.Engine ()\n",
      "2020-05-29 00:17:55,151 INFO sqlalchemy.engine.base.Engine PRAGMA main.table_info(\"Data\")\n",
      "2020-05-29 00:17:55,162 INFO sqlalchemy.engine.base.Engine ()\n",
      "2020-05-29 00:17:55,176 INFO sqlalchemy.engine.base.Engine SELECT sql FROM  (SELECT * FROM sqlite_master UNION ALL   SELECT * FROM sqlite_temp_master) WHERE name = 'Data' AND type = 'table'\n",
      "2020-05-29 00:17:55,182 INFO sqlalchemy.engine.base.Engine ()\n",
      "2020-05-29 00:17:55,204 INFO sqlalchemy.engine.base.Engine PRAGMA main.foreign_key_list(\"Data\")\n",
      "2020-05-29 00:17:55,209 INFO sqlalchemy.engine.base.Engine ()\n",
      "2020-05-29 00:17:55,213 INFO sqlalchemy.engine.base.Engine PRAGMA temp.foreign_key_list(\"Data\")\n",
      "2020-05-29 00:17:55,217 INFO sqlalchemy.engine.base.Engine ()\n",
      "2020-05-29 00:17:55,227 INFO sqlalchemy.engine.base.Engine SELECT sql FROM  (SELECT * FROM sqlite_master UNION ALL   SELECT * FROM sqlite_temp_master) WHERE name = 'Data' AND type = 'table'\n",
      "2020-05-29 00:17:55,233 INFO sqlalchemy.engine.base.Engine ()\n",
      "2020-05-29 00:17:55,242 INFO sqlalchemy.engine.base.Engine PRAGMA main.index_list(\"Data\")\n",
      "2020-05-29 00:17:55,247 INFO sqlalchemy.engine.base.Engine ()\n",
      "2020-05-29 00:17:55,252 INFO sqlalchemy.engine.base.Engine PRAGMA main.index_info(\"ix_Data_index\")\n",
      "2020-05-29 00:17:55,265 INFO sqlalchemy.engine.base.Engine ()\n",
      "2020-05-29 00:17:55,270 INFO sqlalchemy.engine.base.Engine PRAGMA main.index_list(\"Data\")\n",
      "2020-05-29 00:17:55,277 INFO sqlalchemy.engine.base.Engine ()\n",
      "2020-05-29 00:17:55,279 INFO sqlalchemy.engine.base.Engine PRAGMA main.index_info(\"ix_Data_index\")\n",
      "2020-05-29 00:17:55,283 INFO sqlalchemy.engine.base.Engine ()\n",
      "2020-05-29 00:17:55,285 INFO sqlalchemy.engine.base.Engine SELECT sql FROM  (SELECT * FROM sqlite_master UNION ALL   SELECT * FROM sqlite_temp_master) WHERE name = 'Data' AND type = 'table'\n",
      "2020-05-29 00:17:55,290 INFO sqlalchemy.engine.base.Engine ()\n",
      "2020-05-29 00:17:55,306 INFO sqlalchemy.engine.base.Engine SELECT \"Data\".\"index\", \"Data\".\"ID\", \"Data\".\"NUMERO_AFFAIRE\", \"Data\".\"DATE_DEC\", \"Data\".\"NATURE\", \"Data\".\"SIEGE_APPEL\", \"Data\".\"CONTENU\", \"Data\".\"SCT\" \n",
      "FROM \"Data\"\n",
      "2020-05-29 00:17:55,308 INFO sqlalchemy.engine.base.Engine ()\n"
     ]
    }
   ],
   "source": [
    "df = pd.read_sql('Data', con = engine)"
   ]
  },
  {
   "cell_type": "markdown",
   "metadata": {},
   "source": [
    "### Data cleaning"
   ]
  },
  {
   "cell_type": "code",
   "execution_count": 5,
   "metadata": {},
   "outputs": [],
   "source": [
    "df_c = df.copy()"
   ]
  },
  {
   "cell_type": "code",
   "execution_count": 6,
   "metadata": {},
   "outputs": [
    {
     "data": {
      "text/plain": [
       "Index(['index', 'ID', 'NUMERO_AFFAIRE', 'DATE_DEC', 'NATURE', 'SIEGE_APPEL',\n",
       "       'CONTENU', 'SCT'],\n",
       "      dtype='object')"
      ]
     },
     "execution_count": 6,
     "metadata": {},
     "output_type": "execute_result"
    }
   ],
   "source": [
    "df_c.columns"
   ]
  },
  {
   "cell_type": "markdown",
   "metadata": {},
   "source": [
    "#### Index"
   ]
  },
  {
   "cell_type": "code",
   "execution_count": 7,
   "metadata": {},
   "outputs": [],
   "source": [
    "df_c.drop('index', axis = 1, inplace = True)"
   ]
  },
  {
   "cell_type": "markdown",
   "metadata": {},
   "source": [
    "#### NUMERO_AFFAIRE"
   ]
  },
  {
   "cell_type": "code",
   "execution_count": 8,
   "metadata": {},
   "outputs": [],
   "source": [
    "df_c['NUMERO_AFFAIRE'][df_c['NUMERO_AFFAIRE'] == 'null'] = np.NaN"
   ]
  },
  {
   "cell_type": "markdown",
   "metadata": {},
   "source": [
    "#### DATE_DEC"
   ]
  },
  {
   "cell_type": "code",
   "execution_count": 9,
   "metadata": {},
   "outputs": [],
   "source": [
    "date_typo = ['0201-04-04', '0201-11-23', '0201-04-07', '0201-08-24', '0201-06-28', '0201-02-24']"
   ]
  },
  {
   "cell_type": "code",
   "execution_count": 10,
   "metadata": {},
   "outputs": [],
   "source": [
    "for i in date_typo:\n",
    "    c = i.split('-')\n",
    "    c[0] = '2011'\n",
    "    c = '-'.join(c)\n",
    "    df_c['DATE_DEC'][df_c['DATE_DEC'] == i] = c"
   ]
  },
  {
   "cell_type": "code",
   "execution_count": 11,
   "metadata": {},
   "outputs": [],
   "source": [
    "df_c['DATE_DEC'] = pd.to_datetime(df_c['DATE_DEC'], format = '%Y-%m-%d')"
   ]
  },
  {
   "cell_type": "markdown",
   "metadata": {},
   "source": [
    "#### NATURE"
   ]
  },
  {
   "cell_type": "code",
   "execution_count": 12,
   "metadata": {},
   "outputs": [
    {
     "name": "stderr",
     "output_type": "stream",
     "text": [
      "/Users/leoguillaume/.pyenv/versions/3.7.6/envs/vivadata/lib/python3.7/site-packages/ipykernel_launcher.py:1: SettingWithCopyWarning: \n",
      "A value is trying to be set on a copy of a slice from a DataFrame\n",
      "\n",
      "See the caveats in the documentation: https://pandas.pydata.org/pandas-docs/stable/user_guide/indexing.html#returning-a-view-versus-a-copy\n",
      "  \"\"\"Entry point for launching an IPython kernel.\n"
     ]
    }
   ],
   "source": [
    "df_c['NATURE'][df_c['NATURE'] == 'null'] = np.NaN"
   ]
  },
  {
   "cell_type": "markdown",
   "metadata": {},
   "source": [
    "#### SIEGE_APPEL"
   ]
  },
  {
   "cell_type": "code",
   "execution_count": 13,
   "metadata": {},
   "outputs": [
    {
     "name": "stderr",
     "output_type": "stream",
     "text": [
      "/Users/leoguillaume/.pyenv/versions/3.7.6/envs/vivadata/lib/python3.7/site-packages/ipykernel_launcher.py:1: SettingWithCopyWarning: \n",
      "A value is trying to be set on a copy of a slice from a DataFrame\n",
      "\n",
      "See the caveats in the documentation: https://pandas.pydata.org/pandas-docs/stable/user_guide/indexing.html#returning-a-view-versus-a-copy\n",
      "  \"\"\"Entry point for launching an IPython kernel.\n"
     ]
    }
   ],
   "source": [
    "df_c['SIEGE_APPEL'][df_c['SIEGE_APPEL'] == 'null'] = np.NaN"
   ]
  },
  {
   "cell_type": "markdown",
   "metadata": {},
   "source": [
    "#### SCT"
   ]
  },
  {
   "cell_type": "code",
   "execution_count": 14,
   "metadata": {},
   "outputs": [
    {
     "name": "stderr",
     "output_type": "stream",
     "text": [
      "/Users/leoguillaume/.pyenv/versions/3.7.6/envs/vivadata/lib/python3.7/site-packages/ipykernel_launcher.py:15: SettingWithCopyWarning: \n",
      "A value is trying to be set on a copy of a slice from a DataFrame\n",
      "\n",
      "See the caveats in the documentation: https://pandas.pydata.org/pandas-docs/stable/user_guide/indexing.html#returning-a-view-versus-a-copy\n",
      "  from ipykernel import kernelapp as app\n"
     ]
    }
   ],
   "source": [
    "df_c['SCT'][(df_c['SCT'] == 'null') | \n",
    "            (df_c['SCT'] == 'null null') | \n",
    "            (df_c['SCT'] == 'a\\n\\n') |\n",
    "            (df_c['SCT'] == '  null') |\n",
    "            (df_c['SCT'] == '\\n\\n null') |\n",
    "            (df_c['SCT'] == '\\n\\n\\n') |\n",
    "            (df_c['SCT'] == 'null null null null null null') |\n",
    "            (df_c['SCT'] == 'null null null null') |\n",
    "            (df_c['SCT'] == 'null null null') |\n",
    "            (df_c['SCT'] == 'A SUPPRIMER') |\n",
    "            (df_c['SCT'] == '/JDF\\n null') |\n",
    "            (df_c['SCT'] == 'A SUPPRIMER\\n null A SUPPRIMER\\n null') |\n",
    "            (df_c['SCT'] == 'adoublon avec 2000/01644\\n\\n') |\n",
    "            (df_c['SCT'] == 'adoublon avec 2002/00020\\n\\n') |\n",
    "            (df_c['SCT'] == '/\\n null')] = np.NaN"
   ]
  },
  {
   "cell_type": "code",
   "execution_count": 15,
   "metadata": {},
   "outputs": [],
   "source": [
    "df_c.to_pickle(\"data.pkl\")"
   ]
  }
 ],
 "metadata": {
  "kernelspec": {
   "display_name": "Python 3",
   "language": "python",
   "name": "python3"
  },
  "language_info": {
   "codemirror_mode": {
    "name": "ipython",
    "version": 3
   },
   "file_extension": ".py",
   "mimetype": "text/x-python",
   "name": "python",
   "nbconvert_exporter": "python",
   "pygments_lexer": "ipython3",
   "version": "3.7.6"
  }
 },
 "nbformat": 4,
 "nbformat_minor": 4
}
