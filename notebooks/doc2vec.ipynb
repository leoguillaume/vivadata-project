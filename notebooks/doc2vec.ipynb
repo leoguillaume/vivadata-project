{
 "cells": [
  {
   "cell_type": "code",
   "execution_count": 1,
   "metadata": {},
   "outputs": [],
   "source": [
    "from tqdm import tqdm, tqdm_notebook\n",
    "from gensim import utils\n",
    "from gensim.models.doc2vec import LabeledSentence, TaggedDocument\n",
    "from gensim.models import Doc2Vec\n",
    "import pandas as pd\n",
    "import warnings"
   ]
  },
  {
   "cell_type": "code",
   "execution_count": 2,
   "metadata": {},
   "outputs": [],
   "source": [
    "warnings.filterwarnings('ignore')"
   ]
  },
  {
   "cell_type": "code",
   "execution_count": 3,
   "metadata": {},
   "outputs": [
    {
     "name": "stdout",
     "output_type": "stream",
     "text": [
      "Prenoms.csv     data.db         data.pkl        text_tokens.pkl tokens.pkl\r\n"
     ]
    }
   ],
   "source": [
    "!ls ../data/"
   ]
  },
  {
   "cell_type": "code",
   "execution_count": 4,
   "metadata": {},
   "outputs": [
    {
     "name": "stdout",
     "output_type": "stream",
     "text": [
      "CPU times: user 7.89 s, sys: 4.43 s, total: 12.3 s\n",
      "Wall time: 14 s\n"
     ]
    }
   ],
   "source": [
    "%%time\n",
    "df = pd.read_pickle('../data/text_tokens.pkl')"
   ]
  },
  {
   "cell_type": "code",
   "execution_count": 5,
   "metadata": {},
   "outputs": [
    {
     "name": "stderr",
     "output_type": "stream",
     "text": [
      "67210it [00:18, 3669.84it/s]\n"
     ]
    }
   ],
   "source": [
    "tagged_docs = [TaggedDocument(row.tokens, [row.ID]) for index, row in tqdm(df.iterrows())]"
   ]
  },
  {
   "cell_type": "code",
   "execution_count": 20,
   "metadata": {},
   "outputs": [],
   "source": [
    "model = Doc2Vec(vector_size = 128, min_count = 10)"
   ]
  },
  {
   "cell_type": "code",
   "execution_count": 21,
   "metadata": {},
   "outputs": [
    {
     "name": "stdout",
     "output_type": "stream",
     "text": [
      "CPU times: user 57.7 s, sys: 5.65 s, total: 1min 3s\n",
      "Wall time: 1min 21s\n"
     ]
    }
   ],
   "source": [
    "%%time\n",
    "model.build_vocab(tagged_docs)"
   ]
  },
  {
   "cell_type": "code",
   "execution_count": 22,
   "metadata": {},
   "outputs": [
    {
     "name": "stdout",
     "output_type": "stream",
     "text": [
      "CPU times: user 12min 1s, sys: 21.7 s, total: 12min 22s\n",
      "Wall time: 6min 35s\n"
     ]
    }
   ],
   "source": [
    "%%time\n",
    "model.train(tagged_docs, total_examples=model.corpus_count, epochs= 5)"
   ]
  },
  {
   "cell_type": "code",
   "execution_count": 23,
   "metadata": {},
   "outputs": [
    {
     "data": {
      "text/plain": [
       "67210"
      ]
     },
     "execution_count": 23,
     "metadata": {},
     "output_type": "execute_result"
    }
   ],
   "source": [
    "len(model.docvecs.doctags)"
   ]
  },
  {
   "cell_type": "code",
   "execution_count": 15,
   "metadata": {},
   "outputs": [
    {
     "data": {
      "text/plain": [
       "[('JURITEXT000006944575', 0.6439694166183472)]"
      ]
     },
     "execution_count": 15,
     "metadata": {},
     "output_type": "execute_result"
    }
   ],
   "source": [
    "model.docvecs.most_similar('JURITEXT000006937813', topn = 1)"
   ]
  },
  {
   "cell_type": "code",
   "execution_count": 18,
   "metadata": {},
   "outputs": [],
   "source": [
    "from gensim.test.utils import get_tmpfile\n",
    "\n",
    "fname = './CAPP_model'\n",
    "model.save(fname)"
   ]
  },
  {
   "cell_type": "code",
   "execution_count": null,
   "metadata": {},
   "outputs": [],
   "source": []
  },
  {
   "cell_type": "code",
   "execution_count": 29,
   "metadata": {},
   "outputs": [
    {
     "data": {
      "text/plain": [
       "[('JURITEXT000006934958', 0.7429761290550232),\n",
       " ('JURITEXT000018987874', 0.6950019598007202),\n",
       " ('JURITEXT000006948773', 0.6912781000137329),\n",
       " ('JURITEXT000020264237', 0.68904048204422),\n",
       " ('JURITEXT000018816415', 0.6879104375839233)]"
      ]
     },
     "execution_count": 29,
     "metadata": {},
     "output_type": "execute_result"
    }
   ],
   "source": [
    "model.docvecs.most_similar('JURITEXT000006934525', topn = 5)"
   ]
  },
  {
   "cell_type": "code",
   "execution_count": 19,
   "metadata": {},
   "outputs": [
    {
     "data": {
      "text/plain": [
       "[('JURITEXT000006936224', 0.7554283142089844),\n",
       " ('JURITEXT000006947891', 0.7271111607551575),\n",
       " ('JURITEXT000007629703', 0.7259871959686279),\n",
       " ('JURITEXT000006947883', 0.7162789702415466),\n",
       " ('JURITEXT000020075801', 0.7043754458427429)]"
      ]
     },
     "execution_count": 19,
     "metadata": {},
     "output_type": "execute_result"
    }
   ],
   "source": [
    "model.docvecs.most_similar('JURITEXT000006940205', topn = 5)"
   ]
  },
  {
   "cell_type": "code",
   "execution_count": null,
   "metadata": {},
   "outputs": [],
   "source": [
    "tag_doc"
   ]
  },
  {
   "cell_type": "code",
   "execution_count": 25,
   "metadata": {},
   "outputs": [
    {
     "data": {
      "text/html": [
       "<div>\n",
       "<style scoped>\n",
       "    .dataframe tbody tr th:only-of-type {\n",
       "        vertical-align: middle;\n",
       "    }\n",
       "\n",
       "    .dataframe tbody tr th {\n",
       "        vertical-align: top;\n",
       "    }\n",
       "\n",
       "    .dataframe thead th {\n",
       "        text-align: right;\n",
       "    }\n",
       "</style>\n",
       "<table border=\"1\" class=\"dataframe\">\n",
       "  <thead>\n",
       "    <tr style=\"text-align: right;\">\n",
       "      <th></th>\n",
       "      <th>ID</th>\n",
       "      <th>NUMERO_AFFAIRE</th>\n",
       "      <th>DATE_DEC</th>\n",
       "      <th>NATURE</th>\n",
       "      <th>SIEGE_APPEL</th>\n",
       "      <th>CONTENU</th>\n",
       "      <th>SCT</th>\n",
       "      <th>tokens</th>\n",
       "    </tr>\n",
       "  </thead>\n",
       "  <tbody>\n",
       "    <tr>\n",
       "      <th>0</th>\n",
       "      <td>JURITEXT000027340904</td>\n",
       "      <td>13/00024</td>\n",
       "      <td>2013-04-16</td>\n",
       "      <td>ARRET</td>\n",
       "      <td>RENNES</td>\n",
       "      <td>\\n ARRET No 13/ 129  \\n du 16 Avril 2013  \\n \\...</td>\n",
       "      <td>NaN</td>\n",
       "      <td>[assistance, educative, andrea, kevin, attaque...</td>\n",
       "    </tr>\n",
       "    <tr>\n",
       "      <th>1</th>\n",
       "      <td>JURITEXT000034005466</td>\n",
       "      <td>16/00553</td>\n",
       "      <td>2017-01-30</td>\n",
       "      <td>ARRET</td>\n",
       "      <td>BASSE_TERRE</td>\n",
       "      <td>\\n \\n VS-BR  \\n COUR D'APPEL DE BASSE-TERRE  \\...</td>\n",
       "      <td>NaN</td>\n",
       "      <td>[basse, terre, deferee, refere, pointe, pitre,...</td>\n",
       "    </tr>\n",
       "    <tr>\n",
       "      <th>2</th>\n",
       "      <td>JURITEXT000033292077</td>\n",
       "      <td>16/00044</td>\n",
       "      <td>2016-10-21</td>\n",
       "      <td>ARRET</td>\n",
       "      <td>LIMOGES</td>\n",
       "      <td>\\n \\n No  \\n Dossier no 16/ 44  \\n \\n \\n COUR ...</td>\n",
       "      <td>NaN</td>\n",
       "      <td>[limoges, stephane, limoges, colomer, limoges,...</td>\n",
       "    </tr>\n",
       "    <tr>\n",
       "      <th>3</th>\n",
       "      <td>JURITEXT000006942297</td>\n",
       "      <td>2002/36774</td>\n",
       "      <td>2003-09-15</td>\n",
       "      <td>NaN</td>\n",
       "      <td>PARIS</td>\n",
       "      <td>N° Répertoire Général : 02/36774  \\n  Sur appe...</td>\n",
       "      <td>CONTRAT DE TRAVAIL, EXECUTION - Salaire - Paie...</td>\n",
       "      <td>[creteil, industrie, page, pages, cause, gille...</td>\n",
       "    </tr>\n",
       "    <tr>\n",
       "      <th>4</th>\n",
       "      <td>JURITEXT000025232527</td>\n",
       "      <td>10/01738</td>\n",
       "      <td>2011-11-08</td>\n",
       "      <td>ARRET</td>\n",
       "      <td>ANGERS</td>\n",
       "      <td>\\n COUR D'APPEL  D'ANGERS  Chambre Sociale  \\n...</td>\n",
       "      <td>NaN</td>\n",
       "      <td>[angers, mans, enregistree, jose, coulaines, m...</td>\n",
       "    </tr>\n",
       "    <tr>\n",
       "      <th>...</th>\n",
       "      <td>...</td>\n",
       "      <td>...</td>\n",
       "      <td>...</td>\n",
       "      <td>...</td>\n",
       "      <td>...</td>\n",
       "      <td>...</td>\n",
       "      <td>...</td>\n",
       "      <td>...</td>\n",
       "    </tr>\n",
       "    <tr>\n",
       "      <th>67205</th>\n",
       "      <td>JURITEXT000028331961</td>\n",
       "      <td>11/03002</td>\n",
       "      <td>2013-12-10</td>\n",
       "      <td>ARRET</td>\n",
       "      <td>ANGERS</td>\n",
       "      <td>\\n COUR D'APPEL  d'ANGERS  Chambre Sociale  \\n...</td>\n",
       "      <td>NaN</td>\n",
       "      <td>[angers, premiere, formation, paritaire, mans,...</td>\n",
       "    </tr>\n",
       "    <tr>\n",
       "      <th>67206</th>\n",
       "      <td>JURITEXT000020268944</td>\n",
       "      <td>08/01403</td>\n",
       "      <td>2009-01-14</td>\n",
       "      <td>ARRET</td>\n",
       "      <td>BORDEAUX</td>\n",
       "      <td>\\n Dossier n 08 / 01403  \\n SB  \\n Arrêt no : ...</td>\n",
       "      <td>NaN</td>\n",
       "      <td>[christophe, correctionnelle, correctionnel, b...</td>\n",
       "    </tr>\n",
       "    <tr>\n",
       "      <th>67207</th>\n",
       "      <td>JURITEXT000030302139</td>\n",
       "      <td>14/01848</td>\n",
       "      <td>2015-02-23</td>\n",
       "      <td>ARRET</td>\n",
       "      <td>BASSE_TERRE</td>\n",
       "      <td>\\n \\n \\n VF-BR  \\n \\n COUR D'APPEL DE BASSE-TE...</td>\n",
       "      <td>NaN</td>\n",
       "      <td>[basse, terre, deferee, securite, guadeloupe, ...</td>\n",
       "    </tr>\n",
       "    <tr>\n",
       "      <th>67208</th>\n",
       "      <td>JURITEXT000037677084</td>\n",
       "      <td>18/129551</td>\n",
       "      <td>2018-11-29</td>\n",
       "      <td>ARRET</td>\n",
       "      <td>AIX_PROVENCE</td>\n",
       "      <td>COUR D'APPEL d'AIX-EN-PROVENCE [...] \\n \\n No...</td>\n",
       "      <td>NaN</td>\n",
       "      <td>[aix, provence, portalis, dbvb, plaidant, hann...</td>\n",
       "    </tr>\n",
       "    <tr>\n",
       "      <th>67209</th>\n",
       "      <td>JURITEXT000024128191</td>\n",
       "      <td>10/06460</td>\n",
       "      <td>2011-05-19</td>\n",
       "      <td>ARRET</td>\n",
       "      <td>DOUAI</td>\n",
       "      <td>\\n \\n COUR D'APPEL DE DOUAI  \\n CHAMBRE 7 SECT...</td>\n",
       "      <td>NaN</td>\n",
       "      <td>[douai, familiales, valenciennes, ref, patrici...</td>\n",
       "    </tr>\n",
       "  </tbody>\n",
       "</table>\n",
       "<p>67210 rows × 8 columns</p>\n",
       "</div>"
      ],
      "text/plain": [
       "                         ID NUMERO_AFFAIRE   DATE_DEC NATURE   SIEGE_APPEL  \\\n",
       "0      JURITEXT000027340904       13/00024 2013-04-16  ARRET        RENNES   \n",
       "1      JURITEXT000034005466       16/00553 2017-01-30  ARRET   BASSE_TERRE   \n",
       "2      JURITEXT000033292077       16/00044 2016-10-21  ARRET       LIMOGES   \n",
       "3      JURITEXT000006942297     2002/36774 2003-09-15    NaN         PARIS   \n",
       "4      JURITEXT000025232527       10/01738 2011-11-08  ARRET        ANGERS   \n",
       "...                     ...            ...        ...    ...           ...   \n",
       "67205  JURITEXT000028331961       11/03002 2013-12-10  ARRET        ANGERS   \n",
       "67206  JURITEXT000020268944       08/01403 2009-01-14  ARRET      BORDEAUX   \n",
       "67207  JURITEXT000030302139       14/01848 2015-02-23  ARRET   BASSE_TERRE   \n",
       "67208  JURITEXT000037677084      18/129551 2018-11-29  ARRET  AIX_PROVENCE   \n",
       "67209  JURITEXT000024128191       10/06460 2011-05-19  ARRET         DOUAI   \n",
       "\n",
       "                                                 CONTENU  \\\n",
       "0      \\n ARRET No 13/ 129  \\n du 16 Avril 2013  \\n \\...   \n",
       "1      \\n \\n VS-BR  \\n COUR D'APPEL DE BASSE-TERRE  \\...   \n",
       "2      \\n \\n No  \\n Dossier no 16/ 44  \\n \\n \\n COUR ...   \n",
       "3      N° Répertoire Général : 02/36774  \\n  Sur appe...   \n",
       "4      \\n COUR D'APPEL  D'ANGERS  Chambre Sociale  \\n...   \n",
       "...                                                  ...   \n",
       "67205  \\n COUR D'APPEL  d'ANGERS  Chambre Sociale  \\n...   \n",
       "67206  \\n Dossier n 08 / 01403  \\n SB  \\n Arrêt no : ...   \n",
       "67207  \\n \\n \\n VF-BR  \\n \\n COUR D'APPEL DE BASSE-TE...   \n",
       "67208   COUR D'APPEL d'AIX-EN-PROVENCE [...] \\n \\n No...   \n",
       "67209  \\n \\n COUR D'APPEL DE DOUAI  \\n CHAMBRE 7 SECT...   \n",
       "\n",
       "                                                     SCT  \\\n",
       "0                                                    NaN   \n",
       "1                                                    NaN   \n",
       "2                                                    NaN   \n",
       "3      CONTRAT DE TRAVAIL, EXECUTION - Salaire - Paie...   \n",
       "4                                                    NaN   \n",
       "...                                                  ...   \n",
       "67205                                                NaN   \n",
       "67206                                                NaN   \n",
       "67207                                                NaN   \n",
       "67208                                                NaN   \n",
       "67209                                                NaN   \n",
       "\n",
       "                                                  tokens  \n",
       "0      [assistance, educative, andrea, kevin, attaque...  \n",
       "1      [basse, terre, deferee, refere, pointe, pitre,...  \n",
       "2      [limoges, stephane, limoges, colomer, limoges,...  \n",
       "3      [creteil, industrie, page, pages, cause, gille...  \n",
       "4      [angers, mans, enregistree, jose, coulaines, m...  \n",
       "...                                                  ...  \n",
       "67205  [angers, premiere, formation, paritaire, mans,...  \n",
       "67206  [christophe, correctionnelle, correctionnel, b...  \n",
       "67207  [basse, terre, deferee, securite, guadeloupe, ...  \n",
       "67208  [aix, provence, portalis, dbvb, plaidant, hann...  \n",
       "67209  [douai, familiales, valenciennes, ref, patrici...  \n",
       "\n",
       "[67210 rows x 8 columns]"
      ]
     },
     "execution_count": 25,
     "metadata": {},
     "output_type": "execute_result"
    }
   ],
   "source": [
    "df"
   ]
  },
  {
   "cell_type": "code",
   "execution_count": 28,
   "metadata": {},
   "outputs": [
    {
     "data": {
      "text/plain": [
       "['assistance',\n",
       " 'educative',\n",
       " 'andrea',\n",
       " 'kevin',\n",
       " 'attaquee',\n",
       " 'attaquee',\n",
       " 'enfants',\n",
       " 'brestcour',\n",
       " 'rennes',\n",
       " 'speciale',\n",
       " 'mineurs',\n",
       " 'speciale',\n",
       " 'mineurs',\n",
       " 'karine',\n",
       " 'pontchateau',\n",
       " 'delegue',\n",
       " 'protection',\n",
       " 'enfance',\n",
       " 'designee',\n",
       " 'rennes',\n",
       " 'presidant',\n",
       " 'raymonde',\n",
       " 'letourneur',\n",
       " 'baffert',\n",
       " 'presidente',\n",
       " 'pascal',\n",
       " 'pedron',\n",
       " 'ministere',\n",
       " 'stephane',\n",
       " 'cantero',\n",
       " 'substitut',\n",
       " 'bruno',\n",
       " 'gendrot',\n",
       " 'cause',\n",
       " 'beatrice',\n",
       " 'brest',\n",
       " 'comparante',\n",
       " 'valerie',\n",
       " 'legrand',\n",
       " 'brest',\n",
       " 'remi',\n",
       " 'domicile',\n",
       " 'connu',\n",
       " 'comparant',\n",
       " 'direction',\n",
       " 'enfance',\n",
       " 'finistere',\n",
       " 'cite',\n",
       " 'administrative',\n",
       " 'nay',\n",
       " 'quimper',\n",
       " 'maryvonne',\n",
       " 'hmeur',\n",
       " 'rennes',\n",
       " 'substituee',\n",
       " 'karine',\n",
       " 'gourmelon',\n",
       " 'rennes',\n",
       " 'mademoiselle',\n",
       " 'andrea',\n",
       " 'quimper',\n",
       " 'comparante',\n",
       " 'blandin',\n",
       " 'rennes',\n",
       " 'kevin',\n",
       " 'quimper',\n",
       " 'comparante',\n",
       " 'blandin',\n",
       " 'rennes',\n",
       " 'deroulement',\n",
       " 'ete',\n",
       " 'appelee',\n",
       " 'pedron',\n",
       " 'presentes',\n",
       " 'ete',\n",
       " 'entendues',\n",
       " 'observations',\n",
       " 'educateurs',\n",
       " 'mineurs',\n",
       " 'observations',\n",
       " 'ete',\n",
       " 'requisitions',\n",
       " 'presidente',\n",
       " 'beatrice',\n",
       " 'enfants',\n",
       " 'brest',\n",
       " 'maintenu',\n",
       " 'placement',\n",
       " 'andrea',\n",
       " 'enfance',\n",
       " 'finistere',\n",
       " 'accorde',\n",
       " 'visite',\n",
       " 'tiers',\n",
       " 'andrea',\n",
       " 'kevin',\n",
       " 'mere',\n",
       " 'services',\n",
       " 'puissent',\n",
       " 'rencontrer',\n",
       " 'andrea',\n",
       " 'kevin',\n",
       " 'visite',\n",
       " 'pere',\n",
       " 'andrea',\n",
       " 'prestations',\n",
       " 'familiales',\n",
       " 'gardien',\n",
       " 'mainlevee',\n",
       " 'assistance',\n",
       " 'educative',\n",
       " 'milieu',\n",
       " 'confiee',\n",
       " 'udaf',\n",
       " 'andrea',\n",
       " 'regulier',\n",
       " 'beatrice',\n",
       " 'mal',\n",
       " 'comprendre',\n",
       " 'enleve',\n",
       " 'enfants',\n",
       " 'refuse',\n",
       " 'services',\n",
       " 'educatifs',\n",
       " 'harcelaient',\n",
       " 'telephone',\n",
       " 'savent',\n",
       " 'malade',\n",
       " 'simplement',\n",
       " 'fragile',\n",
       " 'voit',\n",
       " 'enfants',\n",
       " 'refuse',\n",
       " 'tisf',\n",
       " 'services',\n",
       " 'mesures',\n",
       " 'andrea',\n",
       " 'agee',\n",
       " 'changements',\n",
       " 'positionnement',\n",
       " 'retourner',\n",
       " 'mere',\n",
       " 'accompagnement',\n",
       " 'educatif',\n",
       " 'kevin',\n",
       " 'demi',\n",
       " 'mere',\n",
       " 'droit',\n",
       " 'visite',\n",
       " 'hebergement',\n",
       " 'classique',\n",
       " 'precisant',\n",
       " 'gerer',\n",
       " 'changements',\n",
       " 'comportement',\n",
       " 'mere',\n",
       " 'mineurs',\n",
       " 'andrea',\n",
       " 'souhaite',\n",
       " 'retourner',\n",
       " 'vivre',\n",
       " 'mere',\n",
       " 'impact',\n",
       " 'limite',\n",
       " 'mineure',\n",
       " 'scolarisee',\n",
       " 'internat',\n",
       " 'semaine',\n",
       " 'kevin',\n",
       " 'droit',\n",
       " 'visite',\n",
       " 'hebergement',\n",
       " 'exercer',\n",
       " 'librement',\n",
       " 'vacances',\n",
       " 'ete',\n",
       " 'semaine',\n",
       " 'moitie',\n",
       " 'petites',\n",
       " 'vacances',\n",
       " 'scolaires',\n",
       " 'intermediaire',\n",
       " 'exposes',\n",
       " 'developpees',\n",
       " 'oralement',\n",
       " 'intermediaire',\n",
       " 'exposes',\n",
       " 'developpees',\n",
       " 'oralement',\n",
       " 'andrea',\n",
       " 'mainlevee',\n",
       " 'placement',\n",
       " 'assistance',\n",
       " 'educative',\n",
       " 'milieu',\n",
       " 'droit',\n",
       " 'visite',\n",
       " 'hebergement',\n",
       " 'libre',\n",
       " 'kevin',\n",
       " 'droit',\n",
       " 'visite',\n",
       " 'hebergement',\n",
       " 'classique',\n",
       " 'voire',\n",
       " 'libre',\n",
       " 'perception',\n",
       " 'allocations',\n",
       " 'familiales',\n",
       " 'ministere',\n",
       " 'requiert',\n",
       " 'developpement',\n",
       " 'visite',\n",
       " 'hebergement',\n",
       " 'classique',\n",
       " 'enfants',\n",
       " 'precis',\n",
       " 'adoptes',\n",
       " 'enfants',\n",
       " 'brest',\n",
       " 'maintenu',\n",
       " 'placement',\n",
       " 'mineure',\n",
       " 'andrea',\n",
       " 'enfance',\n",
       " 'finistere',\n",
       " 'realise',\n",
       " 'initialement',\n",
       " 'urgence',\n",
       " 'caracterisant',\n",
       " 'contenu',\n",
       " 'compromettant',\n",
       " 'gravement',\n",
       " 'bon',\n",
       " 'developpement',\n",
       " 'educatif',\n",
       " 'mineure',\n",
       " 'justifiant',\n",
       " 'assurer',\n",
       " 'protection',\n",
       " 'placement',\n",
       " 'ordonnee',\n",
       " 'adaptee',\n",
       " 'fragilites',\n",
       " 'psychiques',\n",
       " 'mere',\n",
       " 'notees',\n",
       " 'recente',\n",
       " 'expertise',\n",
       " 'psychiatique',\n",
       " 'deposee',\n",
       " 'repercussions',\n",
       " 'long',\n",
       " 'capacites',\n",
       " 'educatives',\n",
       " 'positionnement',\n",
       " 'actuel',\n",
       " 'mineure',\n",
       " 'placement',\n",
       " 'permettant',\n",
       " 'oeuvre',\n",
       " 'mesures',\n",
       " 'adaptees',\n",
       " 'preparation',\n",
       " 'avenir',\n",
       " 'andrea',\n",
       " 'bientot',\n",
       " 'majeure',\n",
       " 'modalites',\n",
       " 'contact',\n",
       " 'fille',\n",
       " 'andrea',\n",
       " 'fils',\n",
       " 'kevin',\n",
       " 'majorite',\n",
       " 'renouvellement',\n",
       " 'notes',\n",
       " 'rapports',\n",
       " 'evolution',\n",
       " 'deposes',\n",
       " 'observations',\n",
       " 'services',\n",
       " 'rencontres',\n",
       " 'survenues',\n",
       " 'pratique',\n",
       " 'mere',\n",
       " 'enfants',\n",
       " 'age',\n",
       " 'respectif',\n",
       " 'capacites',\n",
       " 'abstraire',\n",
       " 'controler',\n",
       " 'court',\n",
       " 'terme',\n",
       " 'occasion',\n",
       " 'visites',\n",
       " 'hebergements',\n",
       " 'difficultes',\n",
       " 'preuve',\n",
       " 'mere',\n",
       " 'accorder',\n",
       " 'droit',\n",
       " 'visite',\n",
       " 'hebergement',\n",
       " 'classique',\n",
       " 'enfants',\n",
       " 'modalites',\n",
       " 'respectives',\n",
       " 'fixees',\n",
       " 'dispositif',\n",
       " 'loi',\n",
       " 'contradictoire',\n",
       " 'accorde',\n",
       " 'juridictionnelle',\n",
       " 'provisoire',\n",
       " 'legrand',\n",
       " 'valerie',\n",
       " 'brest',\n",
       " 'ordonnant',\n",
       " 'maintien',\n",
       " 'placement',\n",
       " 'andrea',\n",
       " 'enfance',\n",
       " 'finistere',\n",
       " 'prestations',\n",
       " 'familiales',\n",
       " 'reformant',\n",
       " 'contact',\n",
       " 'mere',\n",
       " 'enfants',\n",
       " 'beneficiera',\n",
       " 'droit',\n",
       " 'visite',\n",
       " 'hebergement',\n",
       " 'fille',\n",
       " 'andrea',\n",
       " 'semaine',\n",
       " 'moitie',\n",
       " 'vacances',\n",
       " 'scolaires',\n",
       " 'modalites',\n",
       " 'fixees',\n",
       " 'gardien',\n",
       " 'beneficiera',\n",
       " 'droit',\n",
       " 'visite',\n",
       " 'hebergement',\n",
       " 'fils',\n",
       " 'kevin',\n",
       " 'exercer',\n",
       " 'librement',\n",
       " 'vacances',\n",
       " 'ete',\n",
       " 'semaine',\n",
       " 'moitie',\n",
       " 'petites',\n",
       " 'vacances',\n",
       " 'scolaires',\n",
       " 'modalites',\n",
       " 'fixees',\n",
       " 'gardien',\n",
       " 'laisse',\n",
       " 'tresor',\n",
       " 'bruno',\n",
       " 'gendrotle',\n",
       " 'karine',\n",
       " 'pontchateau']"
      ]
     },
     "execution_count": 28,
     "metadata": {},
     "output_type": "execute_result"
    }
   ],
   "source": [
    "df.tokens[0]"
   ]
  },
  {
   "cell_type": "code",
   "execution_count": 34,
   "metadata": {},
   "outputs": [],
   "source": [
    "def query():\n",
    "    query = input('>>')\n",
    "    return query"
   ]
  },
  {
   "cell_type": "code",
   "execution_count": null,
   "metadata": {},
   "outputs": [],
   "source": [
    "def preprocessing(text):\\n\",\n",
    "    tokens = re.sub('\\\\W', ' ', text)\\n\",\n",
    "    doc = nlp(text)\\n\",\n",
    "    \"    tokens = [unidecode.unidecode(str(token).strip().lower()) for token in doc if len(token) > 2 and str(token).strip() != '']\\n\",\n",
    "    \"    tokens = [token for token in tokens if not nlp.vocab[token].is_stop and token not in common_words]\\n\",\n",
    "    \"    tokens = [tokens[i] for i in range(len(tokens)) if tokens[i].isalpha() or tokens[i - 1] == 'article']\\n\",\n",
    "    \"    return tokens\"\n",
    "   ]"
   ]
  },
  {
   "cell_type": "code",
   "execution_count": 32,
   "metadata": {},
   "outputs": [
    {
     "name": "stdout",
     "output_type": "stream",
     "text": [
      ">>df\n"
     ]
    }
   ],
   "source": [
    "query()"
   ]
  },
  {
   "cell_type": "code",
   "execution_count": 46,
   "metadata": {},
   "outputs": [
    {
     "data": {
      "text/plain": [
       "'\\n arret no 13/ 129  \\n du 16 avril 2013  \\n \\n assistance educative  \\n \\n andréa y...\\n kévin y...\\n \\n date de la décision attaquée : 27 novembre 2012  décision attaquée : jugement  juridiction : juge des enfants de brestcour d\\'appel de rennes  chambre speciale des mineurs  \\n \\n arrêt prononcé par mise à disposition au greffe le 16 avril 2013 par la chambre spéciale des mineurs  \\n composition de la cour :  \\n lors des débats à l\\'audience du 22 mars 2013 et du délibéré :  madame karine pontchateau, conseiller délégué à la protection de l\\'enfance désignée par ordonnance du premier président de la cour d\\'appel de rennes en date du 13 juillet 2012, présidant l\\'audience,  mme raymonde letourneur-baffert, présidente de chambre,  m. pascal pedron, conseiller,  \\n \\n ministere public : représenté aux débats par m stéphane cantero, substitut général,  \\n \\n greffier : m. bruno gendrot lors des débats et du prononcé de l\\'arrêt par mise à disposition au greffe  \\n \\n parties en cause devant la cour :  \\n \\n madame béatrice x...\\n \\n...\\n 29200 brest  \\n appelante, comparante en personne, assistée de me valérie legrand, avocat au barreau de brest  \\n \\n et  \\n \\n monsieur rémi y...\\n sans domicile connu  \\n intimé, non comparant  \\n la direction de l\\'aide sociale a l\\'enfance du finistere  cité administrative ty nay  29196 quimper cedex  \\n intimée, représentée de me maryvonne lozac\\'hmeur, avocat au barreau de rennes substituée par me karine gourmelon, avocat au barreau de rennes  \\n \\n mademoiselle andréa y...\\n \\n...\\n \\n...\\n 29196 quimper cedex  \\n intimée, non comparante, représentée par me marie blandin, avocat au barreau de rennes  \\n monsieur kévin y...\\n \\n...\\n \\n...\\n 29196 quimper cedex  \\n intimé, comparante en personne, représenté par me marie blandin, avocat au barreau de rennes  \\n \\n *  \\n deroulement des debats :  \\n l\\'affaire a été appelée à l\\'audience du 22 mars 2013, en chambre du conseil.  \\n monsieur pedron a présenté le rapport de l\\'affaire.  les parties présentes à l\\'audience ont été entendues en leurs observations,  en présence de madame z...et monsieur a..., éducateurs dans le service en charge des mineurs qui on fait part de leurs observations,  les avocats en leurs plaidoiries.  l\\'avocat général a été entendu en ses réquisitions.  \\n la présidente a indiqué que l\\'arrêt serait prononcé par mise à disposition au greffe à l\\'audience du 16 avril 2013.  \\n *  \\n béatrice x...a interjeté appel d\\'un jugement en date du 27 novembre 2012 rendu par le juge des enfants de brest qui a : \\n - maintenu jusqu\\'au 26/ 05/ 2013 le placement de y...andréa à l\\'aide sociale à l\\'enfance du finistère ; - accordé des droits de visite en présence d\\'un tiers pour andréa et kévin, à la mère, sous réserve que les services puissent la rencontrer, de demande de sa part et des demandes d\\'andréa et de kévin ; - réservé les droits de visite du père à une demande de sa part et de la part d\\'andréa ; - dit que les prestations familiales seront versées au service gardien ; - ordonné la mainlevée de la mesure d\\'assistance éducative en milieu ouvert confiée à l\\'udaf à l\\'égard de y...andréa à compter du27/ 11/ 2012.  \\n \\n *  \\n en la forme :  \\n l\\'appel est régulier et recevable en la forme ;  \\n *  \\n motifs de l\\'arret :  \\n à l\\'audience de la cour mme béatrice x..., appelante, précise avoir \" du mal à comprendre pourquoi on lui a enlevé ses enfants \", qu\\'elle a refusé l\\'aide des services éducatifs \" car ils me harcelaient par téléphone alors qu\\'ils savent que je suis malade (...) je suis simplement fragile \" et qu\\'elle ne voit plus ses deux enfants depuis le jugement déféré car elle refuse la tisf.  \\n \\n les services en charge des mesures font valoir d\\'une part qu\\'andréa y...\\n (âgée de 17 ans et 10 mois), après \" beaucoup de changements de positionnement, demande depuis un mois à retourner chez sa mère avec un accompagnement éducatif \", d\\'autre part que kévin y...(âgé de 16 ans et demi) sollicite de voir sa mère dans le cadre d\\'un droit de visite et d\\'hébergement classique tout en précisant savoir gérer les changements de comportement de sa mère.  \\n le conseil des deux mineurs confirme qu\\'andréa d\\'une part souhaite retourner vivre chez sa mère, l\\'impact en étant limité par le fait que la mineure est scolarisée en internat pendant la semaine et d\\'autre part fait valoir que kévin demande un droit de visite et d\\'hébergement à exercer librement pendant les vacances d\\'été et à raison d\\'une fin de semaine sur deux outre la moitié des petites vacances scolaires.  \\n le ...demande, par l\\'intermédiaire de son conseil et pour les motifs exposés à ses conclusions déposées le 22mars 2013 et développées oralement à l\\'audience, la confirmation du jugement déféré en toutes ses dispositions.  \\n mme x...demande, par l\\'intermédiaire de son conseil et pour les motifs exposés à ses conclusions déposées le 22 mars 2013 et développées oralement à l\\'audience, concernant andréa la mainlevée du placement avec une mesure d\\'assistance éducative en milieu ouvert au principal et au subsidiaire un droit de visite et d\\'hébergement libre, concernant kévin un droit de visite et d\\'hébergement classique, voire libre, ainsi que la perception des allocations familiales.  \\n le ministère public requiert le développement de droits de visite et d\\'hébergement classique à l\\'égard des deux enfants.  \\n sur quoi, la cour  \\n considérant que c\\'est par des motifs précis adoptés par la cour que le juge des enfants de brest a maintenu le placement de la mineure andréa y...à l\\'aide sociale à l\\'enfance du finistere (réalisé initialement en urgence le 11 novembre 2012), caractérisant dans le contenu de sa décision une situation compromettant gravement le bon développement, notamment éducatif, de la mineure justifiant pour assurer sa protection la mesure de placement ordonnée, seule adaptée à la situation au regard des fragilités psychiques de la mère (toujours notées par la récente expertise psychiatique déposée le 06 mars 2013) et de leurs répercussions au long cours sur ses capacités éducatives ; qu\\'il convient en conséquence de confirmer le jugement déféré sur ce point, et ce quel que soit le positionnement actuel de la mineure en la matière, le placement permettant au surplus la mise en oeuvre des mesures les plus adaptées à la préparation de l\\'avenir d\\'andréa y...bientôt majeure.  \\n considérant qu\\'au regard des modalités de contact entre mme x...et d\\'une part sa fille andréa, d\\'autre part son fils kévin (placé depuis 2006, et ce jusqu\\'à sa majorité par l\\'effet du dernier jugement de renouvellement du 23 avril 2012), il convient au regard des éléments notés aux rapports d\\'évolution déposés le 05 mars 2013, des observations à l\\'audience de la cour des services faisant état des rencontres survenues malgré tout en pratique entre la mère et ses enfants, de la demande de ceux-ci, de leur âge respectif et de leur capacités à pouvoir s\\'abstraire ou contrôler sur le court terme à l\\'occasion de visites ou d\\'hébergements les difficultés dont peut faire preuve leur mère, d\\'accorder à mme x...un droit de visite et d\\'hébergement classique à l\\'égard de chacun de ses deux enfants selon les modalités respectives fixées comme suit au dispositif.  \\n \\n par ces motifs  \\n la cour, après en avoir délibéré conformément à la loi,  \\n statuant, par mise à disposition au greffe, par arrêt contradictoire,  \\n en la forme :  \\n declare l\\'appel recevable ;  \\n au fond :  \\n accorde l\\'aide juridictionnelle provisoire à maître legrand valérie, avocat barreau de brest  \\n confirme le jugement déféré ordonnant le maintien du placement d\\'andréa y...à l\\'aide sociale à l\\'enfance du finistere et sur les prestations familiales.  \\n réformant sur les droits de contact mère-enfants,  \\n dit que mme x...bénéficiera d\\'un droit de visite et d\\'hébergement à l\\'égard de sa fille andréa à raison d\\'une fin de semaine sur deux et de la moitié des vacances scolaires, selon des modalités qui seront fixées par le service gardien.  \\n dit que mme x...bénéficiera d\\'un droit de visite et d\\'hébergement à l\\'égard de son fils kévin à exercer librement pendant les vacances d\\'été et à raison d\\'une fin de semaine sur deux outre la moitié des petites vacances scolaires, selon des modalités qui seront fixées par le service gardien  \\n laisse les dépens à la charge du trésor public.  \\n \\n le greffier  \\n bruno gendrotle president  \\n karine pontchateau \\n'"
      ]
     },
     "execution_count": 46,
     "metadata": {},
     "output_type": "execute_result"
    }
   ],
   "source": [
    "df.CONTENU[0].lower()"
   ]
  },
  {
   "cell_type": "code",
   "execution_count": null,
   "metadata": {},
   "outputs": [],
   "source": []
  }
 ],
 "metadata": {
  "kernelspec": {
   "display_name": "Python 3",
   "language": "python",
   "name": "python3"
  },
  "language_info": {
   "codemirror_mode": {
    "name": "ipython",
    "version": 3
   },
   "file_extension": ".py",
   "mimetype": "text/x-python",
   "name": "python",
   "nbconvert_exporter": "python",
   "pygments_lexer": "ipython3",
   "version": "3.7.6"
  }
 },
 "nbformat": 4,
 "nbformat_minor": 4
}
