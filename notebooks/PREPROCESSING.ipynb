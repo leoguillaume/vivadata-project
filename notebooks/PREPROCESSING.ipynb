{
 "cells": [
  {
   "cell_type": "markdown",
   "metadata": {},
   "source": [
    "## PREPROCESSING\n",
    "\n",
    "### Imports"
   ]
  },
  {
   "cell_type": "code",
   "execution_count": 1,
   "metadata": {},
   "outputs": [],
   "source": [
    "import pandas as pd\n",
    "import numpy as np\n",
    "import re, spacy, unidecode, warnings\n",
    "from tqdm import tqdm, tqdm_notebook\n",
    "from common_words import common_words"
   ]
  },
  {
   "cell_type": "code",
   "execution_count": 2,
   "metadata": {},
   "outputs": [
    {
     "name": "stdout",
     "output_type": "stream",
     "text": [
      "CPU times: user 27.6 s, sys: 869 ms, total: 28.4 s\n",
      "Wall time: 29.5 s\n"
     ]
    }
   ],
   "source": [
    "%%time\n",
    "warnings.filterwarnings('ignore')\n",
    "nlp = spacy.load(\"fr_core_news_md\")\n",
    "tqdm.pandas(tqdm_notebook)"
   ]
  },
  {
   "cell_type": "markdown",
   "metadata": {},
   "source": [
    "### Database loading"
   ]
  },
  {
   "cell_type": "code",
   "execution_count": 4,
   "metadata": {},
   "outputs": [
    {
     "name": "stdout",
     "output_type": "stream",
     "text": [
      "CPU times: user 1.5 s, sys: 770 ms, total: 2.27 s\n",
      "Wall time: 3.04 s\n"
     ]
    }
   ],
   "source": [
    "%%time\n",
    "df = pd.read_pickle('../data/data.pkl')"
   ]
  },
  {
   "cell_type": "code",
   "execution_count": 5,
   "metadata": {},
   "outputs": [],
   "source": [
    "sample = df.sample(n = 10)"
   ]
  },
  {
   "cell_type": "code",
   "execution_count": 6,
   "metadata": {},
   "outputs": [],
   "source": [
    "def preprocessing(text):\n",
    "    tokens = re.sub('\\W', ' ', text)\n",
    "    doc = nlp(text)\n",
    "    tokens = [unidecode.unidecode(str(token).strip().lower()) for token in doc if len(token) > 2 and str(token).strip() != '']\n",
    "    tokens = [token for token in tokens if not nlp.vocab[token].is_stop and token not in common_words]\n",
    "    tokens = [tokens[i] for i in range(len(tokens)) if tokens[i].isalpha() or tokens[i - 1] == 'article']\n",
    "    return tokens"
   ]
  },
  {
   "cell_type": "code",
   "execution_count": 7,
   "metadata": {},
   "outputs": [
    {
     "name": "stderr",
     "output_type": "stream",
     "text": [
      "100%|██████████| 10/10 [00:05<00:00,  1.82it/s]\n"
     ]
    },
    {
     "data": {
      "text/plain": [
       "1426"
      ]
     },
     "execution_count": 7,
     "metadata": {},
     "output_type": "execute_result"
    }
   ],
   "source": [
    "test = sample.CONTENU.progress_map(preprocessing)\n",
    "len(test.values[0])"
   ]
  },
  {
   "cell_type": "code",
   "execution_count": 11,
   "metadata": {},
   "outputs": [
    {
     "name": "stderr",
     "output_type": "stream",
     "text": [
      "100%|██████████| 67210/67210 [6:19:48<00:00,  2.95it/s]   \n"
     ]
    }
   ],
   "source": [
    "df['tokens'] = df.CONTENU.progress_map(preprocessing)"
   ]
  },
  {
   "cell_type": "code",
   "execution_count": 12,
   "metadata": {},
   "outputs": [],
   "source": [
    "df.to_pickle('./text_tokens.pkl')"
   ]
  },
  {
   "cell_type": "code",
   "execution_count": 13,
   "metadata": {},
   "outputs": [
    {
     "name": "stdout",
     "output_type": "stream",
     "text": [
      "CLEANING.ipynb      PREPROCESSING.ipynb common_words.py     test.pkl\r\n",
      "EDA.ipynb           \u001b[1m\u001b[36m__pycache__\u001b[m\u001b[m         doc2vec.ipynb       text_tokens.pkl\r\n"
     ]
    }
   ],
   "source": [
    "!ls"
   ]
  },
  {
   "cell_type": "code",
   "execution_count": 14,
   "metadata": {},
   "outputs": [
    {
     "data": {
      "text/html": [
       "<div>\n",
       "<style scoped>\n",
       "    .dataframe tbody tr th:only-of-type {\n",
       "        vertical-align: middle;\n",
       "    }\n",
       "\n",
       "    .dataframe tbody tr th {\n",
       "        vertical-align: top;\n",
       "    }\n",
       "\n",
       "    .dataframe thead th {\n",
       "        text-align: right;\n",
       "    }\n",
       "</style>\n",
       "<table border=\"1\" class=\"dataframe\">\n",
       "  <thead>\n",
       "    <tr style=\"text-align: right;\">\n",
       "      <th></th>\n",
       "      <th>ID</th>\n",
       "      <th>NUMERO_AFFAIRE</th>\n",
       "      <th>DATE_DEC</th>\n",
       "      <th>NATURE</th>\n",
       "      <th>SIEGE_APPEL</th>\n",
       "      <th>CONTENU</th>\n",
       "      <th>SCT</th>\n",
       "      <th>tokens</th>\n",
       "    </tr>\n",
       "  </thead>\n",
       "  <tbody>\n",
       "    <tr>\n",
       "      <th>0</th>\n",
       "      <td>JURITEXT000027340904</td>\n",
       "      <td>13/00024</td>\n",
       "      <td>2013-04-16</td>\n",
       "      <td>ARRET</td>\n",
       "      <td>RENNES</td>\n",
       "      <td>\\n ARRET No 13/ 129  \\n du 16 Avril 2013  \\n \\...</td>\n",
       "      <td>NaN</td>\n",
       "      <td>[assistance, educative, andrea, kevin, attaque...</td>\n",
       "    </tr>\n",
       "    <tr>\n",
       "      <th>1</th>\n",
       "      <td>JURITEXT000034005466</td>\n",
       "      <td>16/00553</td>\n",
       "      <td>2017-01-30</td>\n",
       "      <td>ARRET</td>\n",
       "      <td>BASSE_TERRE</td>\n",
       "      <td>\\n \\n VS-BR  \\n COUR D'APPEL DE BASSE-TERRE  \\...</td>\n",
       "      <td>NaN</td>\n",
       "      <td>[basse, terre, deferee, refere, pointe, pitre,...</td>\n",
       "    </tr>\n",
       "    <tr>\n",
       "      <th>2</th>\n",
       "      <td>JURITEXT000033292077</td>\n",
       "      <td>16/00044</td>\n",
       "      <td>2016-10-21</td>\n",
       "      <td>ARRET</td>\n",
       "      <td>LIMOGES</td>\n",
       "      <td>\\n \\n No  \\n Dossier no 16/ 44  \\n \\n \\n COUR ...</td>\n",
       "      <td>NaN</td>\n",
       "      <td>[limoges, stephane, limoges, colomer, limoges,...</td>\n",
       "    </tr>\n",
       "    <tr>\n",
       "      <th>3</th>\n",
       "      <td>JURITEXT000006942297</td>\n",
       "      <td>2002/36774</td>\n",
       "      <td>2003-09-15</td>\n",
       "      <td>NaN</td>\n",
       "      <td>PARIS</td>\n",
       "      <td>N° Répertoire Général : 02/36774  \\n  Sur appe...</td>\n",
       "      <td>CONTRAT DE TRAVAIL, EXECUTION - Salaire - Paie...</td>\n",
       "      <td>[creteil, industrie, page, pages, cause, gille...</td>\n",
       "    </tr>\n",
       "    <tr>\n",
       "      <th>4</th>\n",
       "      <td>JURITEXT000025232527</td>\n",
       "      <td>10/01738</td>\n",
       "      <td>2011-11-08</td>\n",
       "      <td>ARRET</td>\n",
       "      <td>ANGERS</td>\n",
       "      <td>\\n COUR D'APPEL  D'ANGERS  Chambre Sociale  \\n...</td>\n",
       "      <td>NaN</td>\n",
       "      <td>[angers, mans, enregistree, jose, coulaines, m...</td>\n",
       "    </tr>\n",
       "    <tr>\n",
       "      <th>...</th>\n",
       "      <td>...</td>\n",
       "      <td>...</td>\n",
       "      <td>...</td>\n",
       "      <td>...</td>\n",
       "      <td>...</td>\n",
       "      <td>...</td>\n",
       "      <td>...</td>\n",
       "      <td>...</td>\n",
       "    </tr>\n",
       "    <tr>\n",
       "      <th>67205</th>\n",
       "      <td>JURITEXT000028331961</td>\n",
       "      <td>11/03002</td>\n",
       "      <td>2013-12-10</td>\n",
       "      <td>ARRET</td>\n",
       "      <td>ANGERS</td>\n",
       "      <td>\\n COUR D'APPEL  d'ANGERS  Chambre Sociale  \\n...</td>\n",
       "      <td>NaN</td>\n",
       "      <td>[angers, premiere, formation, paritaire, mans,...</td>\n",
       "    </tr>\n",
       "    <tr>\n",
       "      <th>67206</th>\n",
       "      <td>JURITEXT000020268944</td>\n",
       "      <td>08/01403</td>\n",
       "      <td>2009-01-14</td>\n",
       "      <td>ARRET</td>\n",
       "      <td>BORDEAUX</td>\n",
       "      <td>\\n Dossier n 08 / 01403  \\n SB  \\n Arrêt no : ...</td>\n",
       "      <td>NaN</td>\n",
       "      <td>[christophe, correctionnelle, correctionnel, b...</td>\n",
       "    </tr>\n",
       "    <tr>\n",
       "      <th>67207</th>\n",
       "      <td>JURITEXT000030302139</td>\n",
       "      <td>14/01848</td>\n",
       "      <td>2015-02-23</td>\n",
       "      <td>ARRET</td>\n",
       "      <td>BASSE_TERRE</td>\n",
       "      <td>\\n \\n \\n VF-BR  \\n \\n COUR D'APPEL DE BASSE-TE...</td>\n",
       "      <td>NaN</td>\n",
       "      <td>[basse, terre, deferee, securite, guadeloupe, ...</td>\n",
       "    </tr>\n",
       "    <tr>\n",
       "      <th>67208</th>\n",
       "      <td>JURITEXT000037677084</td>\n",
       "      <td>18/129551</td>\n",
       "      <td>2018-11-29</td>\n",
       "      <td>ARRET</td>\n",
       "      <td>AIX_PROVENCE</td>\n",
       "      <td>COUR D'APPEL d'AIX-EN-PROVENCE [...] \\n \\n No...</td>\n",
       "      <td>NaN</td>\n",
       "      <td>[aix, provence, portalis, dbvb, plaidant, hann...</td>\n",
       "    </tr>\n",
       "    <tr>\n",
       "      <th>67209</th>\n",
       "      <td>JURITEXT000024128191</td>\n",
       "      <td>10/06460</td>\n",
       "      <td>2011-05-19</td>\n",
       "      <td>ARRET</td>\n",
       "      <td>DOUAI</td>\n",
       "      <td>\\n \\n COUR D'APPEL DE DOUAI  \\n CHAMBRE 7 SECT...</td>\n",
       "      <td>NaN</td>\n",
       "      <td>[douai, familiales, valenciennes, ref, patrici...</td>\n",
       "    </tr>\n",
       "  </tbody>\n",
       "</table>\n",
       "<p>67210 rows × 8 columns</p>\n",
       "</div>"
      ],
      "text/plain": [
       "                         ID NUMERO_AFFAIRE   DATE_DEC NATURE   SIEGE_APPEL  \\\n",
       "0      JURITEXT000027340904       13/00024 2013-04-16  ARRET        RENNES   \n",
       "1      JURITEXT000034005466       16/00553 2017-01-30  ARRET   BASSE_TERRE   \n",
       "2      JURITEXT000033292077       16/00044 2016-10-21  ARRET       LIMOGES   \n",
       "3      JURITEXT000006942297     2002/36774 2003-09-15    NaN         PARIS   \n",
       "4      JURITEXT000025232527       10/01738 2011-11-08  ARRET        ANGERS   \n",
       "...                     ...            ...        ...    ...           ...   \n",
       "67205  JURITEXT000028331961       11/03002 2013-12-10  ARRET        ANGERS   \n",
       "67206  JURITEXT000020268944       08/01403 2009-01-14  ARRET      BORDEAUX   \n",
       "67207  JURITEXT000030302139       14/01848 2015-02-23  ARRET   BASSE_TERRE   \n",
       "67208  JURITEXT000037677084      18/129551 2018-11-29  ARRET  AIX_PROVENCE   \n",
       "67209  JURITEXT000024128191       10/06460 2011-05-19  ARRET         DOUAI   \n",
       "\n",
       "                                                 CONTENU  \\\n",
       "0      \\n ARRET No 13/ 129  \\n du 16 Avril 2013  \\n \\...   \n",
       "1      \\n \\n VS-BR  \\n COUR D'APPEL DE BASSE-TERRE  \\...   \n",
       "2      \\n \\n No  \\n Dossier no 16/ 44  \\n \\n \\n COUR ...   \n",
       "3      N° Répertoire Général : 02/36774  \\n  Sur appe...   \n",
       "4      \\n COUR D'APPEL  D'ANGERS  Chambre Sociale  \\n...   \n",
       "...                                                  ...   \n",
       "67205  \\n COUR D'APPEL  d'ANGERS  Chambre Sociale  \\n...   \n",
       "67206  \\n Dossier n 08 / 01403  \\n SB  \\n Arrêt no : ...   \n",
       "67207  \\n \\n \\n VF-BR  \\n \\n COUR D'APPEL DE BASSE-TE...   \n",
       "67208   COUR D'APPEL d'AIX-EN-PROVENCE [...] \\n \\n No...   \n",
       "67209  \\n \\n COUR D'APPEL DE DOUAI  \\n CHAMBRE 7 SECT...   \n",
       "\n",
       "                                                     SCT  \\\n",
       "0                                                    NaN   \n",
       "1                                                    NaN   \n",
       "2                                                    NaN   \n",
       "3      CONTRAT DE TRAVAIL, EXECUTION - Salaire - Paie...   \n",
       "4                                                    NaN   \n",
       "...                                                  ...   \n",
       "67205                                                NaN   \n",
       "67206                                                NaN   \n",
       "67207                                                NaN   \n",
       "67208                                                NaN   \n",
       "67209                                                NaN   \n",
       "\n",
       "                                                  tokens  \n",
       "0      [assistance, educative, andrea, kevin, attaque...  \n",
       "1      [basse, terre, deferee, refere, pointe, pitre,...  \n",
       "2      [limoges, stephane, limoges, colomer, limoges,...  \n",
       "3      [creteil, industrie, page, pages, cause, gille...  \n",
       "4      [angers, mans, enregistree, jose, coulaines, m...  \n",
       "...                                                  ...  \n",
       "67205  [angers, premiere, formation, paritaire, mans,...  \n",
       "67206  [christophe, correctionnelle, correctionnel, b...  \n",
       "67207  [basse, terre, deferee, securite, guadeloupe, ...  \n",
       "67208  [aix, provence, portalis, dbvb, plaidant, hann...  \n",
       "67209  [douai, familiales, valenciennes, ref, patrici...  \n",
       "\n",
       "[67210 rows x 8 columns]"
      ]
     },
     "execution_count": 14,
     "metadata": {},
     "output_type": "execute_result"
    }
   ],
   "source": []
  },
  {
   "cell_type": "code",
   "execution_count": null,
   "metadata": {},
   "outputs": [],
   "source": []
  },
  {
   "cell_type": "code",
   "execution_count": 16,
   "metadata": {},
   "outputs": [],
   "source": [
    "data2 = pd.read_pickle('text_tokens.pkl')"
   ]
  },
  {
   "cell_type": "code",
   "execution_count": null,
   "metadata": {},
   "outputs": [],
   "source": []
  }
 ],
 "metadata": {
  "kernelspec": {
   "display_name": "Python 3",
   "language": "python",
   "name": "python3"
  },
  "language_info": {
   "codemirror_mode": {
    "name": "ipython",
    "version": 3
   },
   "file_extension": ".py",
   "mimetype": "text/x-python",
   "name": "python",
   "nbconvert_exporter": "python",
   "pygments_lexer": "ipython3",
   "version": "3.7.6"
  }
 },
 "nbformat": 4,
 "nbformat_minor": 4
}
