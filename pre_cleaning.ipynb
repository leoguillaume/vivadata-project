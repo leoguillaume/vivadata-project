{
 "cells": [
  {
   "cell_type": "code",
   "execution_count": 1,
   "metadata": {},
   "outputs": [],
   "source": [
    "import pandas as pd\n",
    "import numpy as np"
   ]
  },
  {
   "cell_type": "code",
   "execution_count": 2,
   "metadata": {},
   "outputs": [
    {
     "name": "stdout",
     "output_type": "stream",
     "text": [
      "2020-05-29 00:17:55,097 INFO sqlalchemy.engine.base.Engine SELECT CAST('test plain returns' AS VARCHAR(60)) AS anon_1\n",
      "2020-05-29 00:17:55,098 INFO sqlalchemy.engine.base.Engine ()\n",
      "2020-05-29 00:17:55,099 INFO sqlalchemy.engine.base.Engine SELECT CAST('test unicode returns' AS VARCHAR(60)) AS anon_1\n",
      "2020-05-29 00:17:55,100 INFO sqlalchemy.engine.base.Engine ()\n"
     ]
    }
   ],
   "source": [
    "import sqlalchemy as db\n",
    "DATABASE_URL = 'sqlite:///' + 'data.db'\n",
    "engine = db.create_engine(DATABASE_URL, echo = True)\n",
    "connection = engine.connect()"
   ]
  },
  {
   "cell_type": "code",
   "execution_count": 3,
   "metadata": {},
   "outputs": [
    {
     "name": "stdout",
     "output_type": "stream",
     "text": [
      "2020-05-29 00:17:55,116 INFO sqlalchemy.engine.base.Engine PRAGMA main.table_info(\"Data\")\n",
      "2020-05-29 00:17:55,120 INFO sqlalchemy.engine.base.Engine ()\n",
      "2020-05-29 00:17:55,137 INFO sqlalchemy.engine.base.Engine SELECT name FROM sqlite_master WHERE type='table' ORDER BY name\n",
      "2020-05-29 00:17:55,143 INFO sqlalchemy.engine.base.Engine ()\n",
      "2020-05-29 00:17:55,151 INFO sqlalchemy.engine.base.Engine PRAGMA main.table_info(\"Data\")\n",
      "2020-05-29 00:17:55,162 INFO sqlalchemy.engine.base.Engine ()\n",
      "2020-05-29 00:17:55,176 INFO sqlalchemy.engine.base.Engine SELECT sql FROM  (SELECT * FROM sqlite_master UNION ALL   SELECT * FROM sqlite_temp_master) WHERE name = 'Data' AND type = 'table'\n",
      "2020-05-29 00:17:55,182 INFO sqlalchemy.engine.base.Engine ()\n",
      "2020-05-29 00:17:55,204 INFO sqlalchemy.engine.base.Engine PRAGMA main.foreign_key_list(\"Data\")\n",
      "2020-05-29 00:17:55,209 INFO sqlalchemy.engine.base.Engine ()\n",
      "2020-05-29 00:17:55,213 INFO sqlalchemy.engine.base.Engine PRAGMA temp.foreign_key_list(\"Data\")\n",
      "2020-05-29 00:17:55,217 INFO sqlalchemy.engine.base.Engine ()\n",
      "2020-05-29 00:17:55,227 INFO sqlalchemy.engine.base.Engine SELECT sql FROM  (SELECT * FROM sqlite_master UNION ALL   SELECT * FROM sqlite_temp_master) WHERE name = 'Data' AND type = 'table'\n",
      "2020-05-29 00:17:55,233 INFO sqlalchemy.engine.base.Engine ()\n",
      "2020-05-29 00:17:55,242 INFO sqlalchemy.engine.base.Engine PRAGMA main.index_list(\"Data\")\n",
      "2020-05-29 00:17:55,247 INFO sqlalchemy.engine.base.Engine ()\n",
      "2020-05-29 00:17:55,252 INFO sqlalchemy.engine.base.Engine PRAGMA main.index_info(\"ix_Data_index\")\n",
      "2020-05-29 00:17:55,265 INFO sqlalchemy.engine.base.Engine ()\n",
      "2020-05-29 00:17:55,270 INFO sqlalchemy.engine.base.Engine PRAGMA main.index_list(\"Data\")\n",
      "2020-05-29 00:17:55,277 INFO sqlalchemy.engine.base.Engine ()\n",
      "2020-05-29 00:17:55,279 INFO sqlalchemy.engine.base.Engine PRAGMA main.index_info(\"ix_Data_index\")\n",
      "2020-05-29 00:17:55,283 INFO sqlalchemy.engine.base.Engine ()\n",
      "2020-05-29 00:17:55,285 INFO sqlalchemy.engine.base.Engine SELECT sql FROM  (SELECT * FROM sqlite_master UNION ALL   SELECT * FROM sqlite_temp_master) WHERE name = 'Data' AND type = 'table'\n",
      "2020-05-29 00:17:55,290 INFO sqlalchemy.engine.base.Engine ()\n",
      "2020-05-29 00:17:55,306 INFO sqlalchemy.engine.base.Engine SELECT \"Data\".\"index\", \"Data\".\"ID\", \"Data\".\"NUMERO_AFFAIRE\", \"Data\".\"DATE_DEC\", \"Data\".\"NATURE\", \"Data\".\"SIEGE_APPEL\", \"Data\".\"CONTENU\", \"Data\".\"SCT\" \n",
      "FROM \"Data\"\n",
      "2020-05-29 00:17:55,308 INFO sqlalchemy.engine.base.Engine ()\n"
     ]
    }
   ],
   "source": [
    "df = pd.read_sql('Data', con = engine)"
   ]
  },
  {
   "cell_type": "code",
   "execution_count": 4,
   "metadata": {},
   "outputs": [
    {
     "data": {
      "text/html": [
       "<div>\n",
       "<style scoped>\n",
       "    .dataframe tbody tr th:only-of-type {\n",
       "        vertical-align: middle;\n",
       "    }\n",
       "\n",
       "    .dataframe tbody tr th {\n",
       "        vertical-align: top;\n",
       "    }\n",
       "\n",
       "    .dataframe thead th {\n",
       "        text-align: right;\n",
       "    }\n",
       "</style>\n",
       "<table border=\"1\" class=\"dataframe\">\n",
       "  <thead>\n",
       "    <tr style=\"text-align: right;\">\n",
       "      <th></th>\n",
       "      <th>index</th>\n",
       "      <th>ID</th>\n",
       "      <th>NUMERO_AFFAIRE</th>\n",
       "      <th>DATE_DEC</th>\n",
       "      <th>NATURE</th>\n",
       "      <th>SIEGE_APPEL</th>\n",
       "      <th>CONTENU</th>\n",
       "      <th>SCT</th>\n",
       "    </tr>\n",
       "  </thead>\n",
       "  <tbody>\n",
       "    <tr>\n",
       "      <th>0</th>\n",
       "      <td>0</td>\n",
       "      <td>JURITEXT000027340904</td>\n",
       "      <td>13/00024</td>\n",
       "      <td>2013-04-16</td>\n",
       "      <td>ARRET</td>\n",
       "      <td>RENNES</td>\n",
       "      <td>\\n ARRET No 13/ 129  \\n du 16 Avril 2013  \\n \\...</td>\n",
       "      <td>null null</td>\n",
       "    </tr>\n",
       "    <tr>\n",
       "      <th>1</th>\n",
       "      <td>0</td>\n",
       "      <td>JURITEXT000034005466</td>\n",
       "      <td>16/00553</td>\n",
       "      <td>2017-01-30</td>\n",
       "      <td>ARRET</td>\n",
       "      <td>BASSE_TERRE</td>\n",
       "      <td>\\n \\n VS-BR  \\n COUR D'APPEL DE BASSE-TERRE  \\...</td>\n",
       "      <td>null null</td>\n",
       "    </tr>\n",
       "    <tr>\n",
       "      <th>2</th>\n",
       "      <td>0</td>\n",
       "      <td>JURITEXT000033292077</td>\n",
       "      <td>16/00044</td>\n",
       "      <td>2016-10-21</td>\n",
       "      <td>ARRET</td>\n",
       "      <td>LIMOGES</td>\n",
       "      <td>\\n \\n No  \\n Dossier no 16/ 44  \\n \\n \\n COUR ...</td>\n",
       "      <td>null null</td>\n",
       "    </tr>\n",
       "    <tr>\n",
       "      <th>3</th>\n",
       "      <td>0</td>\n",
       "      <td>JURITEXT000006942297</td>\n",
       "      <td>2002/36774</td>\n",
       "      <td>2003-09-15</td>\n",
       "      <td>null</td>\n",
       "      <td>PARIS</td>\n",
       "      <td>N° Répertoire Général : 02/36774  \\n  Sur appe...</td>\n",
       "      <td>CONTRAT DE TRAVAIL, EXECUTION - Salaire - Paie...</td>\n",
       "    </tr>\n",
       "    <tr>\n",
       "      <th>4</th>\n",
       "      <td>0</td>\n",
       "      <td>JURITEXT000025232527</td>\n",
       "      <td>10/01738</td>\n",
       "      <td>2011-11-08</td>\n",
       "      <td>ARRET</td>\n",
       "      <td>ANGERS</td>\n",
       "      <td>\\n COUR D'APPEL  D'ANGERS  Chambre Sociale  \\n...</td>\n",
       "      <td>null null</td>\n",
       "    </tr>\n",
       "    <tr>\n",
       "      <th>...</th>\n",
       "      <td>...</td>\n",
       "      <td>...</td>\n",
       "      <td>...</td>\n",
       "      <td>...</td>\n",
       "      <td>...</td>\n",
       "      <td>...</td>\n",
       "      <td>...</td>\n",
       "      <td>...</td>\n",
       "    </tr>\n",
       "    <tr>\n",
       "      <th>67205</th>\n",
       "      <td>0</td>\n",
       "      <td>JURITEXT000028331961</td>\n",
       "      <td>11/03002</td>\n",
       "      <td>2013-12-10</td>\n",
       "      <td>ARRET</td>\n",
       "      <td>ANGERS</td>\n",
       "      <td>\\n COUR D'APPEL  d'ANGERS  Chambre Sociale  \\n...</td>\n",
       "      <td>null null</td>\n",
       "    </tr>\n",
       "    <tr>\n",
       "      <th>67206</th>\n",
       "      <td>0</td>\n",
       "      <td>JURITEXT000020268944</td>\n",
       "      <td>08/01403</td>\n",
       "      <td>2009-01-14</td>\n",
       "      <td>ARRET</td>\n",
       "      <td>BORDEAUX</td>\n",
       "      <td>\\n Dossier n 08 / 01403  \\n SB  \\n Arrêt no : ...</td>\n",
       "      <td>null</td>\n",
       "    </tr>\n",
       "    <tr>\n",
       "      <th>67207</th>\n",
       "      <td>0</td>\n",
       "      <td>JURITEXT000030302139</td>\n",
       "      <td>14/01848</td>\n",
       "      <td>2015-02-23</td>\n",
       "      <td>ARRET</td>\n",
       "      <td>BASSE_TERRE</td>\n",
       "      <td>\\n \\n \\n VF-BR  \\n \\n COUR D'APPEL DE BASSE-TE...</td>\n",
       "      <td>null null</td>\n",
       "    </tr>\n",
       "    <tr>\n",
       "      <th>67208</th>\n",
       "      <td>0</td>\n",
       "      <td>JURITEXT000037677084</td>\n",
       "      <td>18/129551</td>\n",
       "      <td>2018-11-29</td>\n",
       "      <td>ARRET</td>\n",
       "      <td>AIX_PROVENCE</td>\n",
       "      <td>COUR D'APPEL d'AIX-EN-PROVENCE [...] \\n \\n No...</td>\n",
       "      <td>null null</td>\n",
       "    </tr>\n",
       "    <tr>\n",
       "      <th>67209</th>\n",
       "      <td>0</td>\n",
       "      <td>JURITEXT000024128191</td>\n",
       "      <td>10/06460</td>\n",
       "      <td>2011-05-19</td>\n",
       "      <td>ARRET</td>\n",
       "      <td>DOUAI</td>\n",
       "      <td>\\n \\n COUR D'APPEL DE DOUAI  \\n CHAMBRE 7 SECT...</td>\n",
       "      <td>null null</td>\n",
       "    </tr>\n",
       "  </tbody>\n",
       "</table>\n",
       "<p>67210 rows × 8 columns</p>\n",
       "</div>"
      ],
      "text/plain": [
       "       index                    ID NUMERO_AFFAIRE    DATE_DEC NATURE  \\\n",
       "0          0  JURITEXT000027340904       13/00024  2013-04-16  ARRET   \n",
       "1          0  JURITEXT000034005466       16/00553  2017-01-30  ARRET   \n",
       "2          0  JURITEXT000033292077       16/00044  2016-10-21  ARRET   \n",
       "3          0  JURITEXT000006942297     2002/36774  2003-09-15   null   \n",
       "4          0  JURITEXT000025232527       10/01738  2011-11-08  ARRET   \n",
       "...      ...                   ...            ...         ...    ...   \n",
       "67205      0  JURITEXT000028331961       11/03002  2013-12-10  ARRET   \n",
       "67206      0  JURITEXT000020268944       08/01403  2009-01-14  ARRET   \n",
       "67207      0  JURITEXT000030302139       14/01848  2015-02-23  ARRET   \n",
       "67208      0  JURITEXT000037677084      18/129551  2018-11-29  ARRET   \n",
       "67209      0  JURITEXT000024128191       10/06460  2011-05-19  ARRET   \n",
       "\n",
       "        SIEGE_APPEL                                            CONTENU  \\\n",
       "0            RENNES  \\n ARRET No 13/ 129  \\n du 16 Avril 2013  \\n \\...   \n",
       "1       BASSE_TERRE  \\n \\n VS-BR  \\n COUR D'APPEL DE BASSE-TERRE  \\...   \n",
       "2           LIMOGES  \\n \\n No  \\n Dossier no 16/ 44  \\n \\n \\n COUR ...   \n",
       "3             PARIS  N° Répertoire Général : 02/36774  \\n  Sur appe...   \n",
       "4            ANGERS  \\n COUR D'APPEL  D'ANGERS  Chambre Sociale  \\n...   \n",
       "...             ...                                                ...   \n",
       "67205        ANGERS  \\n COUR D'APPEL  d'ANGERS  Chambre Sociale  \\n...   \n",
       "67206      BORDEAUX  \\n Dossier n 08 / 01403  \\n SB  \\n Arrêt no : ...   \n",
       "67207   BASSE_TERRE  \\n \\n \\n VF-BR  \\n \\n COUR D'APPEL DE BASSE-TE...   \n",
       "67208  AIX_PROVENCE   COUR D'APPEL d'AIX-EN-PROVENCE [...] \\n \\n No...   \n",
       "67209         DOUAI  \\n \\n COUR D'APPEL DE DOUAI  \\n CHAMBRE 7 SECT...   \n",
       "\n",
       "                                                     SCT  \n",
       "0                                              null null  \n",
       "1                                              null null  \n",
       "2                                              null null  \n",
       "3      CONTRAT DE TRAVAIL, EXECUTION - Salaire - Paie...  \n",
       "4                                              null null  \n",
       "...                                                  ...  \n",
       "67205                                          null null  \n",
       "67206                                               null  \n",
       "67207                                          null null  \n",
       "67208                                          null null  \n",
       "67209                                          null null  \n",
       "\n",
       "[67210 rows x 8 columns]"
      ]
     },
     "execution_count": 4,
     "metadata": {},
     "output_type": "execute_result"
    }
   ],
   "source": [
    "df"
   ]
  },
  {
   "cell_type": "markdown",
   "metadata": {},
   "source": [
    "## Data cleaning"
   ]
  },
  {
   "cell_type": "code",
   "execution_count": 5,
   "metadata": {},
   "outputs": [],
   "source": [
    "df_c = df.copy()"
   ]
  },
  {
   "cell_type": "code",
   "execution_count": 6,
   "metadata": {},
   "outputs": [
    {
     "data": {
      "text/plain": [
       "Index(['index', 'ID', 'NUMERO_AFFAIRE', 'DATE_DEC', 'NATURE', 'SIEGE_APPEL',\n",
       "       'CONTENU', 'SCT'],\n",
       "      dtype='object')"
      ]
     },
     "execution_count": 6,
     "metadata": {},
     "output_type": "execute_result"
    }
   ],
   "source": [
    "df_c.columns"
   ]
  },
  {
   "cell_type": "markdown",
   "metadata": {},
   "source": [
    "### Index"
   ]
  },
  {
   "cell_type": "code",
   "execution_count": 7,
   "metadata": {},
   "outputs": [],
   "source": [
    "df_c.drop('index', axis = 1, inplace = True)"
   ]
  },
  {
   "cell_type": "markdown",
   "metadata": {},
   "source": [
    "### NUMERO_AFFAIRE"
   ]
  },
  {
   "cell_type": "code",
   "execution_count": 8,
   "metadata": {},
   "outputs": [],
   "source": [
    "df_c['NUMERO_AFFAIRE'][df_c['NUMERO_AFFAIRE'] == 'null'] = np.NaN"
   ]
  },
  {
   "cell_type": "markdown",
   "metadata": {},
   "source": [
    "### DATE_DEC"
   ]
  },
  {
   "cell_type": "code",
   "execution_count": 9,
   "metadata": {},
   "outputs": [],
   "source": [
    "date_typo = ['0201-04-04', '0201-11-23', '0201-04-07', '0201-08-24', '0201-06-28', '0201-02-24']"
   ]
  },
  {
   "cell_type": "code",
   "execution_count": 10,
   "metadata": {},
   "outputs": [],
   "source": [
    "for i in date_typo:\n",
    "    c = i.split('-')\n",
    "    c[0] = '2011'\n",
    "    c = '-'.join(c)\n",
    "    df_c['DATE_DEC'][df_c['DATE_DEC'] == i] = c"
   ]
  },
  {
   "cell_type": "code",
   "execution_count": 11,
   "metadata": {},
   "outputs": [],
   "source": [
    "df_c['DATE_DEC'] = pd.to_datetime(df_c['DATE_DEC'], format = '%Y-%m-%d')"
   ]
  },
  {
   "cell_type": "markdown",
   "metadata": {},
   "source": [
    "### NATURE"
   ]
  },
  {
   "cell_type": "code",
   "execution_count": 12,
   "metadata": {},
   "outputs": [
    {
     "name": "stderr",
     "output_type": "stream",
     "text": [
      "/Users/leoguillaume/.pyenv/versions/3.7.6/envs/vivadata/lib/python3.7/site-packages/ipykernel_launcher.py:1: SettingWithCopyWarning: \n",
      "A value is trying to be set on a copy of a slice from a DataFrame\n",
      "\n",
      "See the caveats in the documentation: https://pandas.pydata.org/pandas-docs/stable/user_guide/indexing.html#returning-a-view-versus-a-copy\n",
      "  \"\"\"Entry point for launching an IPython kernel.\n"
     ]
    }
   ],
   "source": [
    "df_c['NATURE'][df_c['NATURE'] == 'null'] = np.NaN"
   ]
  },
  {
   "cell_type": "markdown",
   "metadata": {},
   "source": [
    "### SIEGE_APPEL"
   ]
  },
  {
   "cell_type": "code",
   "execution_count": 13,
   "metadata": {},
   "outputs": [
    {
     "name": "stderr",
     "output_type": "stream",
     "text": [
      "/Users/leoguillaume/.pyenv/versions/3.7.6/envs/vivadata/lib/python3.7/site-packages/ipykernel_launcher.py:1: SettingWithCopyWarning: \n",
      "A value is trying to be set on a copy of a slice from a DataFrame\n",
      "\n",
      "See the caveats in the documentation: https://pandas.pydata.org/pandas-docs/stable/user_guide/indexing.html#returning-a-view-versus-a-copy\n",
      "  \"\"\"Entry point for launching an IPython kernel.\n"
     ]
    }
   ],
   "source": [
    "df_c['SIEGE_APPEL'][df_c['SIEGE_APPEL'] == 'null'] = np.NaN"
   ]
  },
  {
   "cell_type": "markdown",
   "metadata": {},
   "source": [
    "### SCT"
   ]
  },
  {
   "cell_type": "code",
   "execution_count": 14,
   "metadata": {},
   "outputs": [
    {
     "name": "stderr",
     "output_type": "stream",
     "text": [
      "/Users/leoguillaume/.pyenv/versions/3.7.6/envs/vivadata/lib/python3.7/site-packages/ipykernel_launcher.py:15: SettingWithCopyWarning: \n",
      "A value is trying to be set on a copy of a slice from a DataFrame\n",
      "\n",
      "See the caveats in the documentation: https://pandas.pydata.org/pandas-docs/stable/user_guide/indexing.html#returning-a-view-versus-a-copy\n",
      "  from ipykernel import kernelapp as app\n"
     ]
    }
   ],
   "source": [
    "df_c['SCT'][(df_c['SCT'] == 'null') | \n",
    "            (df_c['SCT'] == 'null null') | \n",
    "            (df_c['SCT'] == 'a\\n\\n') |\n",
    "            (df_c['SCT'] == '  null') |\n",
    "            (df_c['SCT'] == '\\n\\n null') |\n",
    "            (df_c['SCT'] == '\\n\\n\\n') |\n",
    "            (df_c['SCT'] == 'null null null null null null') |\n",
    "            (df_c['SCT'] == 'null null null null') |\n",
    "            (df_c['SCT'] == 'null null null') |\n",
    "            (df_c['SCT'] == 'A SUPPRIMER') |\n",
    "            (df_c['SCT'] == '/JDF\\n null') |\n",
    "            (df_c['SCT'] == 'A SUPPRIMER\\n null A SUPPRIMER\\n null') |\n",
    "            (df_c['SCT'] == 'adoublon avec 2000/01644\\n\\n') |\n",
    "            (df_c['SCT'] == 'adoublon avec 2002/00020\\n\\n') |\n",
    "            (df_c['SCT'] == '/\\n null')] = np.NaN"
   ]
  },
  {
   "cell_type": "code",
   "execution_count": 15,
   "metadata": {},
   "outputs": [],
   "source": [
    "df_c.to_pickle(\"data.pkl\")"
   ]
  },
  {
   "cell_type": "code",
   "execution_count": 16,
   "metadata": {},
   "outputs": [],
   "source": [
    "data = pd.read_pickle('data.pkl')"
   ]
  },
  {
   "cell_type": "code",
   "execution_count": 17,
   "metadata": {},
   "outputs": [
    {
     "name": "stdout",
     "output_type": "stream",
     "text": [
      "<class 'pandas.core.frame.DataFrame'>\n",
      "RangeIndex: 67210 entries, 0 to 67209\n",
      "Data columns (total 7 columns):\n",
      " #   Column          Non-Null Count  Dtype         \n",
      "---  ------          --------------  -----         \n",
      " 0   ID              67210 non-null  object        \n",
      " 1   NUMERO_AFFAIRE  59061 non-null  object        \n",
      " 2   DATE_DEC        67210 non-null  datetime64[ns]\n",
      " 3   NATURE          57570 non-null  object        \n",
      " 4   SIEGE_APPEL     64240 non-null  object        \n",
      " 5   CONTENU         67210 non-null  object        \n",
      " 6   SCT             17098 non-null  object        \n",
      "dtypes: datetime64[ns](1), object(6)\n",
      "memory usage: 3.6+ MB\n"
     ]
    }
   ],
   "source": [
    "data.info()"
   ]
  },
  {
   "cell_type": "code",
   "execution_count": 18,
   "metadata": {},
   "outputs": [
    {
     "data": {
      "text/html": [
       "<div>\n",
       "<style scoped>\n",
       "    .dataframe tbody tr th:only-of-type {\n",
       "        vertical-align: middle;\n",
       "    }\n",
       "\n",
       "    .dataframe tbody tr th {\n",
       "        vertical-align: top;\n",
       "    }\n",
       "\n",
       "    .dataframe thead th {\n",
       "        text-align: right;\n",
       "    }\n",
       "</style>\n",
       "<table border=\"1\" class=\"dataframe\">\n",
       "  <thead>\n",
       "    <tr style=\"text-align: right;\">\n",
       "      <th></th>\n",
       "      <th>ID</th>\n",
       "      <th>NUMERO_AFFAIRE</th>\n",
       "      <th>DATE_DEC</th>\n",
       "      <th>NATURE</th>\n",
       "      <th>SIEGE_APPEL</th>\n",
       "      <th>CONTENU</th>\n",
       "      <th>SCT</th>\n",
       "    </tr>\n",
       "  </thead>\n",
       "  <tbody>\n",
       "    <tr>\n",
       "      <th>0</th>\n",
       "      <td>JURITEXT000027340904</td>\n",
       "      <td>13/00024</td>\n",
       "      <td>2013-04-16</td>\n",
       "      <td>ARRET</td>\n",
       "      <td>RENNES</td>\n",
       "      <td>\\n ARRET No 13/ 129  \\n du 16 Avril 2013  \\n \\...</td>\n",
       "      <td>NaN</td>\n",
       "    </tr>\n",
       "    <tr>\n",
       "      <th>1</th>\n",
       "      <td>JURITEXT000034005466</td>\n",
       "      <td>16/00553</td>\n",
       "      <td>2017-01-30</td>\n",
       "      <td>ARRET</td>\n",
       "      <td>BASSE_TERRE</td>\n",
       "      <td>\\n \\n VS-BR  \\n COUR D'APPEL DE BASSE-TERRE  \\...</td>\n",
       "      <td>NaN</td>\n",
       "    </tr>\n",
       "    <tr>\n",
       "      <th>2</th>\n",
       "      <td>JURITEXT000033292077</td>\n",
       "      <td>16/00044</td>\n",
       "      <td>2016-10-21</td>\n",
       "      <td>ARRET</td>\n",
       "      <td>LIMOGES</td>\n",
       "      <td>\\n \\n No  \\n Dossier no 16/ 44  \\n \\n \\n COUR ...</td>\n",
       "      <td>NaN</td>\n",
       "    </tr>\n",
       "    <tr>\n",
       "      <th>3</th>\n",
       "      <td>JURITEXT000006942297</td>\n",
       "      <td>2002/36774</td>\n",
       "      <td>2003-09-15</td>\n",
       "      <td>NaN</td>\n",
       "      <td>PARIS</td>\n",
       "      <td>N° Répertoire Général : 02/36774  \\n  Sur appe...</td>\n",
       "      <td>CONTRAT DE TRAVAIL, EXECUTION - Salaire - Paie...</td>\n",
       "    </tr>\n",
       "    <tr>\n",
       "      <th>4</th>\n",
       "      <td>JURITEXT000025232527</td>\n",
       "      <td>10/01738</td>\n",
       "      <td>2011-11-08</td>\n",
       "      <td>ARRET</td>\n",
       "      <td>ANGERS</td>\n",
       "      <td>\\n COUR D'APPEL  D'ANGERS  Chambre Sociale  \\n...</td>\n",
       "      <td>NaN</td>\n",
       "    </tr>\n",
       "    <tr>\n",
       "      <th>...</th>\n",
       "      <td>...</td>\n",
       "      <td>...</td>\n",
       "      <td>...</td>\n",
       "      <td>...</td>\n",
       "      <td>...</td>\n",
       "      <td>...</td>\n",
       "      <td>...</td>\n",
       "    </tr>\n",
       "    <tr>\n",
       "      <th>67205</th>\n",
       "      <td>JURITEXT000028331961</td>\n",
       "      <td>11/03002</td>\n",
       "      <td>2013-12-10</td>\n",
       "      <td>ARRET</td>\n",
       "      <td>ANGERS</td>\n",
       "      <td>\\n COUR D'APPEL  d'ANGERS  Chambre Sociale  \\n...</td>\n",
       "      <td>NaN</td>\n",
       "    </tr>\n",
       "    <tr>\n",
       "      <th>67206</th>\n",
       "      <td>JURITEXT000020268944</td>\n",
       "      <td>08/01403</td>\n",
       "      <td>2009-01-14</td>\n",
       "      <td>ARRET</td>\n",
       "      <td>BORDEAUX</td>\n",
       "      <td>\\n Dossier n 08 / 01403  \\n SB  \\n Arrêt no : ...</td>\n",
       "      <td>NaN</td>\n",
       "    </tr>\n",
       "    <tr>\n",
       "      <th>67207</th>\n",
       "      <td>JURITEXT000030302139</td>\n",
       "      <td>14/01848</td>\n",
       "      <td>2015-02-23</td>\n",
       "      <td>ARRET</td>\n",
       "      <td>BASSE_TERRE</td>\n",
       "      <td>\\n \\n \\n VF-BR  \\n \\n COUR D'APPEL DE BASSE-TE...</td>\n",
       "      <td>NaN</td>\n",
       "    </tr>\n",
       "    <tr>\n",
       "      <th>67208</th>\n",
       "      <td>JURITEXT000037677084</td>\n",
       "      <td>18/129551</td>\n",
       "      <td>2018-11-29</td>\n",
       "      <td>ARRET</td>\n",
       "      <td>AIX_PROVENCE</td>\n",
       "      <td>COUR D'APPEL d'AIX-EN-PROVENCE [...] \\n \\n No...</td>\n",
       "      <td>NaN</td>\n",
       "    </tr>\n",
       "    <tr>\n",
       "      <th>67209</th>\n",
       "      <td>JURITEXT000024128191</td>\n",
       "      <td>10/06460</td>\n",
       "      <td>2011-05-19</td>\n",
       "      <td>ARRET</td>\n",
       "      <td>DOUAI</td>\n",
       "      <td>\\n \\n COUR D'APPEL DE DOUAI  \\n CHAMBRE 7 SECT...</td>\n",
       "      <td>NaN</td>\n",
       "    </tr>\n",
       "  </tbody>\n",
       "</table>\n",
       "<p>67210 rows × 7 columns</p>\n",
       "</div>"
      ],
      "text/plain": [
       "                         ID NUMERO_AFFAIRE   DATE_DEC NATURE   SIEGE_APPEL  \\\n",
       "0      JURITEXT000027340904       13/00024 2013-04-16  ARRET        RENNES   \n",
       "1      JURITEXT000034005466       16/00553 2017-01-30  ARRET   BASSE_TERRE   \n",
       "2      JURITEXT000033292077       16/00044 2016-10-21  ARRET       LIMOGES   \n",
       "3      JURITEXT000006942297     2002/36774 2003-09-15    NaN         PARIS   \n",
       "4      JURITEXT000025232527       10/01738 2011-11-08  ARRET        ANGERS   \n",
       "...                     ...            ...        ...    ...           ...   \n",
       "67205  JURITEXT000028331961       11/03002 2013-12-10  ARRET        ANGERS   \n",
       "67206  JURITEXT000020268944       08/01403 2009-01-14  ARRET      BORDEAUX   \n",
       "67207  JURITEXT000030302139       14/01848 2015-02-23  ARRET   BASSE_TERRE   \n",
       "67208  JURITEXT000037677084      18/129551 2018-11-29  ARRET  AIX_PROVENCE   \n",
       "67209  JURITEXT000024128191       10/06460 2011-05-19  ARRET         DOUAI   \n",
       "\n",
       "                                                 CONTENU  \\\n",
       "0      \\n ARRET No 13/ 129  \\n du 16 Avril 2013  \\n \\...   \n",
       "1      \\n \\n VS-BR  \\n COUR D'APPEL DE BASSE-TERRE  \\...   \n",
       "2      \\n \\n No  \\n Dossier no 16/ 44  \\n \\n \\n COUR ...   \n",
       "3      N° Répertoire Général : 02/36774  \\n  Sur appe...   \n",
       "4      \\n COUR D'APPEL  D'ANGERS  Chambre Sociale  \\n...   \n",
       "...                                                  ...   \n",
       "67205  \\n COUR D'APPEL  d'ANGERS  Chambre Sociale  \\n...   \n",
       "67206  \\n Dossier n 08 / 01403  \\n SB  \\n Arrêt no : ...   \n",
       "67207  \\n \\n \\n VF-BR  \\n \\n COUR D'APPEL DE BASSE-TE...   \n",
       "67208   COUR D'APPEL d'AIX-EN-PROVENCE [...] \\n \\n No...   \n",
       "67209  \\n \\n COUR D'APPEL DE DOUAI  \\n CHAMBRE 7 SECT...   \n",
       "\n",
       "                                                     SCT  \n",
       "0                                                    NaN  \n",
       "1                                                    NaN  \n",
       "2                                                    NaN  \n",
       "3      CONTRAT DE TRAVAIL, EXECUTION - Salaire - Paie...  \n",
       "4                                                    NaN  \n",
       "...                                                  ...  \n",
       "67205                                                NaN  \n",
       "67206                                                NaN  \n",
       "67207                                                NaN  \n",
       "67208                                                NaN  \n",
       "67209                                                NaN  \n",
       "\n",
       "[67210 rows x 7 columns]"
      ]
     },
     "execution_count": 18,
     "metadata": {},
     "output_type": "execute_result"
    }
   ],
   "source": []
  },
  {
   "cell_type": "code",
   "execution_count": null,
   "metadata": {},
   "outputs": [],
   "source": []
  }
 ],
 "metadata": {
  "kernelspec": {
   "display_name": "Python 3",
   "language": "python",
   "name": "python3"
  },
  "language_info": {
   "codemirror_mode": {
    "name": "ipython",
    "version": 3
   },
   "file_extension": ".py",
   "mimetype": "text/x-python",
   "name": "python",
   "nbconvert_exporter": "python",
   "pygments_lexer": "ipython3",
   "version": "3.7.6"
  }
 },
 "nbformat": 4,
 "nbformat_minor": 4
}
